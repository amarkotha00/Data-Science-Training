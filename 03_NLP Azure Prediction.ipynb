{
  "nbformat": 4,
  "nbformat_minor": 0,
  "metadata": {
    "colab": {
      "name": "03 nlp azure.ipynb",
      "provenance": [],
      "include_colab_link": true
    },
    "kernelspec": {
      "name": "python3",
      "display_name": "Python 3"
    },
    "language_info": {
      "name": "python"
    }
  },
  "cells": [
    {
      "cell_type": "markdown",
      "metadata": {
        "id": "view-in-github",
        "colab_type": "text"
      },
      "source": [
        "<a href=\"https://colab.research.google.com/github/amarkotha00/Data-Science-Training/blob/main/03_NLP%20Azure%20Prediction.ipynb\" target=\"_parent\"><img src=\"https://colab.research.google.com/assets/colab-badge.svg\" alt=\"Open In Colab\"/></a>"
      ]
    },
    {
      "cell_type": "markdown",
      "source": [
        "**Check the Documentation** - https://docs.microsoft.com/en-us/azure/cognitive-services/language-service/personally-identifiable-information/quickstart?pivots=programming-language-python\n",
        "\n",
        "https://docs.microsoft.com/en-us/python/api/overview/azure/storage-blob-readme?view=azure-python#downloading-a-blob"
      ],
      "metadata": {
        "id": "13bl4zzfTzgW"
      }
    },
    {
      "cell_type": "code",
      "execution_count": 1,
      "metadata": {
        "colab": {
          "base_uri": "https://localhost:8080/"
        },
        "id": "oUZsS7XeJl-2",
        "outputId": "219f2047-b7f2-488e-d60b-eddd02c64e66"
      },
      "outputs": [
        {
          "output_type": "stream",
          "name": "stdout",
          "text": [
            "Collecting azure-ai-textanalytics==5.1.0\n",
            "  Downloading azure_ai_textanalytics-5.1.0-py2.py3-none-any.whl (153 kB)\n",
            "\u001b[?25l\r\u001b[K     |██▏                             | 10 kB 26.6 MB/s eta 0:00:01\r\u001b[K     |████▎                           | 20 kB 32.3 MB/s eta 0:00:01\r\u001b[K     |██████▍                         | 30 kB 35.4 MB/s eta 0:00:01\r\u001b[K     |████████▋                       | 40 kB 36.3 MB/s eta 0:00:01\r\u001b[K     |██████████▊                     | 51 kB 38.4 MB/s eta 0:00:01\r\u001b[K     |████████████▉                   | 61 kB 30.5 MB/s eta 0:00:01\r\u001b[K     |███████████████                 | 71 kB 26.1 MB/s eta 0:00:01\r\u001b[K     |█████████████████▏              | 81 kB 27.0 MB/s eta 0:00:01\r\u001b[K     |███████████████████▎            | 92 kB 28.8 MB/s eta 0:00:01\r\u001b[K     |█████████████████████▍          | 102 kB 27.2 MB/s eta 0:00:01\r\u001b[K     |███████████████████████▌        | 112 kB 27.2 MB/s eta 0:00:01\r\u001b[K     |█████████████████████████▊      | 122 kB 27.2 MB/s eta 0:00:01\r\u001b[K     |███████████████████████████▉    | 133 kB 27.2 MB/s eta 0:00:01\r\u001b[K     |██████████████████████████████  | 143 kB 27.2 MB/s eta 0:00:01\r\u001b[K     |████████████████████████████████| 153 kB 27.2 MB/s \n",
            "\u001b[?25hCollecting azure-core<2.0.0,>=1.14.0\n",
            "  Downloading azure_core-1.21.1-py2.py3-none-any.whl (178 kB)\n",
            "\u001b[?25l\r\u001b[K     |█▉                              | 10 kB 23.6 MB/s eta 0:00:01\r\u001b[K     |███▊                            | 20 kB 31.4 MB/s eta 0:00:01\r\u001b[K     |█████▌                          | 30 kB 29.9 MB/s eta 0:00:01\r\u001b[K     |███████▍                        | 40 kB 32.4 MB/s eta 0:00:01\r\u001b[K     |█████████▏                      | 51 kB 34.3 MB/s eta 0:00:01\r\u001b[K     |███████████                     | 61 kB 37.8 MB/s eta 0:00:01\r\u001b[K     |████████████▉                   | 71 kB 38.6 MB/s eta 0:00:01\r\u001b[K     |██████████████▊                 | 81 kB 40.6 MB/s eta 0:00:01\r\u001b[K     |████████████████▋               | 92 kB 42.6 MB/s eta 0:00:01\r\u001b[K     |██████████████████▍             | 102 kB 44.4 MB/s eta 0:00:01\r\u001b[K     |████████████████████▎           | 112 kB 44.4 MB/s eta 0:00:01\r\u001b[K     |██████████████████████          | 122 kB 44.4 MB/s eta 0:00:01\r\u001b[K     |████████████████████████        | 133 kB 44.4 MB/s eta 0:00:01\r\u001b[K     |█████████████████████████▊      | 143 kB 44.4 MB/s eta 0:00:01\r\u001b[K     |███████████████████████████▋    | 153 kB 44.4 MB/s eta 0:00:01\r\u001b[K     |█████████████████████████████▍  | 163 kB 44.4 MB/s eta 0:00:01\r\u001b[K     |███████████████████████████████▎| 174 kB 44.4 MB/s eta 0:00:01\r\u001b[K     |████████████████████████████████| 178 kB 44.4 MB/s \n",
            "\u001b[?25hRequirement already satisfied: six>=1.11.0 in /usr/local/lib/python3.7/dist-packages (from azure-ai-textanalytics==5.1.0) (1.15.0)\n",
            "Collecting azure-common~=1.1\n",
            "  Downloading azure_common-1.1.27-py2.py3-none-any.whl (12 kB)\n",
            "Collecting msrest>=0.6.21\n",
            "  Downloading msrest-0.6.21-py2.py3-none-any.whl (85 kB)\n",
            "\u001b[K     |████████████████████████████████| 85 kB 4.6 MB/s \n",
            "\u001b[?25hRequirement already satisfied: requests>=2.18.4 in /usr/local/lib/python3.7/dist-packages (from azure-core<2.0.0,>=1.14.0->azure-ai-textanalytics==5.1.0) (2.23.0)\n",
            "Collecting isodate>=0.6.0\n",
            "  Downloading isodate-0.6.1-py2.py3-none-any.whl (41 kB)\n",
            "\u001b[K     |████████████████████████████████| 41 kB 500 kB/s \n",
            "\u001b[?25hRequirement already satisfied: certifi>=2017.4.17 in /usr/local/lib/python3.7/dist-packages (from msrest>=0.6.21->azure-ai-textanalytics==5.1.0) (2021.10.8)\n",
            "Requirement already satisfied: requests-oauthlib>=0.5.0 in /usr/local/lib/python3.7/dist-packages (from msrest>=0.6.21->azure-ai-textanalytics==5.1.0) (1.3.0)\n",
            "Requirement already satisfied: idna<3,>=2.5 in /usr/local/lib/python3.7/dist-packages (from requests>=2.18.4->azure-core<2.0.0,>=1.14.0->azure-ai-textanalytics==5.1.0) (2.10)\n",
            "Requirement already satisfied: urllib3!=1.25.0,!=1.25.1,<1.26,>=1.21.1 in /usr/local/lib/python3.7/dist-packages (from requests>=2.18.4->azure-core<2.0.0,>=1.14.0->azure-ai-textanalytics==5.1.0) (1.24.3)\n",
            "Requirement already satisfied: chardet<4,>=3.0.2 in /usr/local/lib/python3.7/dist-packages (from requests>=2.18.4->azure-core<2.0.0,>=1.14.0->azure-ai-textanalytics==5.1.0) (3.0.4)\n",
            "Requirement already satisfied: oauthlib>=3.0.0 in /usr/local/lib/python3.7/dist-packages (from requests-oauthlib>=0.5.0->msrest>=0.6.21->azure-ai-textanalytics==5.1.0) (3.1.1)\n",
            "Installing collected packages: isodate, msrest, azure-core, azure-common, azure-ai-textanalytics\n",
            "Successfully installed azure-ai-textanalytics-5.1.0 azure-common-1.1.27 azure-core-1.21.1 isodate-0.6.1 msrest-0.6.21\n",
            "Collecting azure-storage-blob\n",
            "  Downloading azure_storage_blob-12.9.0-py2.py3-none-any.whl (356 kB)\n",
            "\u001b[K     |████████████████████████████████| 356 kB 20.1 MB/s \n",
            "\u001b[?25hRequirement already satisfied: msrest>=0.6.21 in /usr/local/lib/python3.7/dist-packages (from azure-storage-blob) (0.6.21)\n",
            "Requirement already satisfied: azure-core<2.0.0,>=1.10.0 in /usr/local/lib/python3.7/dist-packages (from azure-storage-blob) (1.21.1)\n",
            "Collecting cryptography>=2.1.4\n",
            "  Downloading cryptography-36.0.1-cp36-abi3-manylinux_2_24_x86_64.whl (3.6 MB)\n",
            "\u001b[K     |████████████████████████████████| 3.6 MB 54.6 MB/s \n",
            "\u001b[?25hRequirement already satisfied: requests>=2.18.4 in /usr/local/lib/python3.7/dist-packages (from azure-core<2.0.0,>=1.10.0->azure-storage-blob) (2.23.0)\n",
            "Requirement already satisfied: six>=1.11.0 in /usr/local/lib/python3.7/dist-packages (from azure-core<2.0.0,>=1.10.0->azure-storage-blob) (1.15.0)\n",
            "Requirement already satisfied: cffi>=1.12 in /usr/local/lib/python3.7/dist-packages (from cryptography>=2.1.4->azure-storage-blob) (1.15.0)\n",
            "Requirement already satisfied: pycparser in /usr/local/lib/python3.7/dist-packages (from cffi>=1.12->cryptography>=2.1.4->azure-storage-blob) (2.21)\n",
            "Requirement already satisfied: isodate>=0.6.0 in /usr/local/lib/python3.7/dist-packages (from msrest>=0.6.21->azure-storage-blob) (0.6.1)\n",
            "Requirement already satisfied: certifi>=2017.4.17 in /usr/local/lib/python3.7/dist-packages (from msrest>=0.6.21->azure-storage-blob) (2021.10.8)\n",
            "Requirement already satisfied: requests-oauthlib>=0.5.0 in /usr/local/lib/python3.7/dist-packages (from msrest>=0.6.21->azure-storage-blob) (1.3.0)\n",
            "Requirement already satisfied: urllib3!=1.25.0,!=1.25.1,<1.26,>=1.21.1 in /usr/local/lib/python3.7/dist-packages (from requests>=2.18.4->azure-core<2.0.0,>=1.10.0->azure-storage-blob) (1.24.3)\n",
            "Requirement already satisfied: idna<3,>=2.5 in /usr/local/lib/python3.7/dist-packages (from requests>=2.18.4->azure-core<2.0.0,>=1.10.0->azure-storage-blob) (2.10)\n",
            "Requirement already satisfied: chardet<4,>=3.0.2 in /usr/local/lib/python3.7/dist-packages (from requests>=2.18.4->azure-core<2.0.0,>=1.10.0->azure-storage-blob) (3.0.4)\n",
            "Requirement already satisfied: oauthlib>=3.0.0 in /usr/local/lib/python3.7/dist-packages (from requests-oauthlib>=0.5.0->msrest>=0.6.21->azure-storage-blob) (3.1.1)\n",
            "Installing collected packages: cryptography, azure-storage-blob\n",
            "Successfully installed azure-storage-blob-12.9.0 cryptography-36.0.1\n"
          ]
        }
      ],
      "source": [
        "!pip install azure-ai-textanalytics==5.1.0\n",
        "!pip install azure-storage-blob"
      ]
    },
    {
      "cell_type": "code",
      "source": [
        "key = \"f713980c5c174751b4c50555a11bea10\"\n",
        "endpoint = \"https://edith.cognitiveservices.azure.com/\"\n",
        "\n",
        "from azure.ai.textanalytics import TextAnalyticsClient\n",
        "from azure.core.credentials import AzureKeyCredential\n",
        "\n",
        "ta_credential = AzureKeyCredential(key)\n",
        "client = TextAnalyticsClient(\n",
        "            endpoint=endpoint, \n",
        "            credential=ta_credential)\n"
      ],
      "metadata": {
        "id": "8Msk1cKHJuLP"
      },
      "execution_count": 2,
      "outputs": []
    },
    {
      "cell_type": "code",
      "source": [
        "from azure.storage.blob import BlobServiceClient\n",
        "azaccesskey = 'DZ/gERm1sXVHdzSfCnXbMFNA04sUMxQou8FGLfq1+OjkA0j9WbBw7GY6lQrApkj5eU/xfFNkmeUyLiE54iYRGQ=='\n",
        "service = BlobServiceClient(account_url=\"https://spideydump.blob.core.windows.net\", credential=azaccesskey)"
      ],
      "metadata": {
        "id": "T2U6DsXSPmSn"
      },
      "execution_count": 4,
      "outputs": []
    },
    {
      "cell_type": "code",
      "source": [
        "from azure.storage.blob import BlobClient\n",
        "constring = 'DefaultEndpointsProtocol=https;AccountName=spideydump;AccountKey=DZ/gERm1sXVHdzSfCnXbMFNA04sUMxQou8FGLfq1+OjkA0j9WbBw7GY6lQrApkj5eU/xfFNkmeUyLiE54iYRGQ==;EndpointSuffix=core.windows.net'\n",
        "blob = BlobClient.from_connection_string(conn_str=constring, container_name=\"bullymag\", blob_name=\"spi.txt\")\n",
        "# blob-> written in binary\n",
        "with open(\"spi.txt\", \"wb\") as my_blob:\n",
        "    blob_data = blob.download_blob()\n",
        "    blob_data.readinto(my_blob)"
      ],
      "metadata": {
        "id": "_RjItgbeP3Ok"
      },
      "execution_count": 6,
      "outputs": []
    },
    {
      "cell_type": "code",
      "source": [
        "# text-> read as text\n",
        "mydata = open(\"spi.txt\", \"rt\").read()\n",
        "mydata"
      ],
      "metadata": {
        "colab": {
          "base_uri": "https://localhost:8080/",
          "height": 35
        },
        "id": "ylmxku5FRX16",
        "outputId": "10f215d9-50a2-47e2-b3bf-69809d1aa5b0"
      },
      "execution_count": 7,
      "outputs": [
        {
          "output_type": "execute_result",
          "data": {
            "application/vnd.google.colaboratory.intrinsic+json": {
              "type": "string"
            },
            "text/plain": [
              "'I am Spiderman. I am mostly called as Bully Maguire.\\nI live in NewYork, Queens. I am an AVENGER.'"
            ]
          },
          "metadata": {},
          "execution_count": 7
        }
      ]
    },
    {
      "cell_type": "code",
      "source": [
        "mydata = mydata.replace(\"\\n\",\"\")\n",
        "sentokens = mydata.split('.')\n",
        "print(sentokens)"
      ],
      "metadata": {
        "colab": {
          "base_uri": "https://localhost:8080/"
        },
        "id": "GWrw03WxRscI",
        "outputId": "1606b046-acf4-4b82-e023-2b5cdf6e235f"
      },
      "execution_count": 15,
      "outputs": [
        {
          "output_type": "stream",
          "name": "stdout",
          "text": [
            "['I am Spiderman', ' I am mostly called as Bully Maguire', 'I live in NewYork, Queens', ' I am an AVENGER', '']\n"
          ]
        }
      ]
    },
    {
      "cell_type": "code",
      "source": [
        "# Example method for detecting sensitive information (PII) from text \n",
        "def pii_recognition_example(client, mydata):\n",
        "    documents = mydata\n",
        "    response = client.recognize_pii_entities(documents, language=\"en\")\n",
        "    result = [doc for doc in response if not doc.is_error]\n",
        "    for doc in result:\n",
        "        print(\"Redacted Text: {}\".format(doc.redacted_text))\n",
        "        for entity in doc.entities:\n",
        "            print(\"Entity: {}\".format(entity.text))\n",
        "            print(\"\\tCategory: {}\".format(entity.category))\n",
        "            print(\"\\tConfidence Score: {}\".format(entity.confidence_score))\n",
        "            print(\"\\tOffset: {}\".format(entity.offset))\n",
        "            print(\"\\tLength: {}\".format(entity.length))\n"
      ],
      "metadata": {
        "id": "P7yFed9JONzE"
      },
      "execution_count": 16,
      "outputs": []
    },
    {
      "cell_type": "code",
      "source": [
        "pii_recognition_example(client, sentokens)"
      ],
      "metadata": {
        "colab": {
          "base_uri": "https://localhost:8080/"
        },
        "id": "l2r6nf9nS1FV",
        "outputId": "f62722e8-8d0d-46c6-a2d1-e184bf1405eb"
      },
      "execution_count": 17,
      "outputs": [
        {
          "output_type": "stream",
          "name": "stdout",
          "text": [
            "Redacted Text: I am *********\n",
            "Entity: Spiderman\n",
            "\tCategory: Person\n",
            "\tConfidence Score: 0.77\n",
            "\tOffset: 5\n",
            "\tLength: 9\n",
            "Redacted Text:  I am mostly called as *************\n",
            "Entity: Bully Maguire\n",
            "\tCategory: Person\n",
            "\tConfidence Score: 0.93\n",
            "\tOffset: 23\n",
            "\tLength: 13\n",
            "Redacted Text: I live in NewYork, Queens\n",
            "Redacted Text:  I am an AVENGER\n"
          ]
        }
      ]
    },
    {
      "cell_type": "code",
      "source": [
        ""
      ],
      "metadata": {
        "id": "eAFYvqBAS5yS"
      },
      "execution_count": null,
      "outputs": []
    }
  ]
}