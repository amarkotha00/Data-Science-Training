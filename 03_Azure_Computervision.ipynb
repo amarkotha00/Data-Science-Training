{
  "nbformat": 4,
  "nbformat_minor": 0,
  "metadata": {
    "colab": {
      "name": "03_cv_azure_computervision.ipynb",
      "provenance": [],
      "include_colab_link": true
    },
    "kernelspec": {
      "name": "python3",
      "display_name": "Python 3"
    },
    "language_info": {
      "name": "python"
    }
  },
  "cells": [
    {
      "cell_type": "markdown",
      "metadata": {
        "id": "view-in-github",
        "colab_type": "text"
      },
      "source": [
        "<a href=\"https://colab.research.google.com/github/amarkotha00/Data-Science-Training/blob/main/03_Azure_Computervision.ipynb\" target=\"_parent\"><img src=\"https://colab.research.google.com/assets/colab-badge.svg\" alt=\"Open In Colab\"/></a>"
      ]
    },
    {
      "cell_type": "markdown",
      "source": [
        "**Visit this Link to check out different ways of Analysing pictures (Output Specific)** : https://docs.microsoft.com/en-us/azure/cognitive-services/computer-vision/quickstarts-sdk/image-analysis-client-library?tabs=visual-studio&pivots=programming-language-python"
      ],
      "metadata": {
        "id": "FTK5BpqN7y10"
      }
    },
    {
      "cell_type": "code",
      "execution_count": 1,
      "metadata": {
        "colab": {
          "base_uri": "https://localhost:8080/"
        },
        "id": "VywjqnEhlhDA",
        "outputId": "1ea4ad7b-822f-457e-e39a-6f8e7937f157"
      },
      "outputs": [
        {
          "output_type": "stream",
          "name": "stdout",
          "text": [
            "Collecting azure-cognitiveservices-vision-computervision\n",
            "  Downloading azure_cognitiveservices_vision_computervision-0.9.0-py2.py3-none-any.whl (39 kB)\n",
            "Collecting msrest>=0.5.0\n",
            "  Downloading msrest-0.6.21-py2.py3-none-any.whl (85 kB)\n",
            "\u001b[K     |████████████████████████████████| 85 kB 2.1 MB/s \n",
            "\u001b[?25hCollecting azure-common~=1.1\n",
            "  Downloading azure_common-1.1.27-py2.py3-none-any.whl (12 kB)\n",
            "Requirement already satisfied: requests-oauthlib>=0.5.0 in /usr/local/lib/python3.7/dist-packages (from msrest>=0.5.0->azure-cognitiveservices-vision-computervision) (1.3.0)\n",
            "Requirement already satisfied: requests~=2.16 in /usr/local/lib/python3.7/dist-packages (from msrest>=0.5.0->azure-cognitiveservices-vision-computervision) (2.23.0)\n",
            "Collecting isodate>=0.6.0\n",
            "  Downloading isodate-0.6.1-py2.py3-none-any.whl (41 kB)\n",
            "\u001b[K     |████████████████████████████████| 41 kB 497 kB/s \n",
            "\u001b[?25hRequirement already satisfied: certifi>=2017.4.17 in /usr/local/lib/python3.7/dist-packages (from msrest>=0.5.0->azure-cognitiveservices-vision-computervision) (2021.10.8)\n",
            "Requirement already satisfied: six in /usr/local/lib/python3.7/dist-packages (from isodate>=0.6.0->msrest>=0.5.0->azure-cognitiveservices-vision-computervision) (1.15.0)\n",
            "Requirement already satisfied: chardet<4,>=3.0.2 in /usr/local/lib/python3.7/dist-packages (from requests~=2.16->msrest>=0.5.0->azure-cognitiveservices-vision-computervision) (3.0.4)\n",
            "Requirement already satisfied: urllib3!=1.25.0,!=1.25.1,<1.26,>=1.21.1 in /usr/local/lib/python3.7/dist-packages (from requests~=2.16->msrest>=0.5.0->azure-cognitiveservices-vision-computervision) (1.24.3)\n",
            "Requirement already satisfied: idna<3,>=2.5 in /usr/local/lib/python3.7/dist-packages (from requests~=2.16->msrest>=0.5.0->azure-cognitiveservices-vision-computervision) (2.10)\n",
            "Requirement already satisfied: oauthlib>=3.0.0 in /usr/local/lib/python3.7/dist-packages (from requests-oauthlib>=0.5.0->msrest>=0.5.0->azure-cognitiveservices-vision-computervision) (3.1.1)\n",
            "Installing collected packages: isodate, msrest, azure-common, azure-cognitiveservices-vision-computervision\n",
            "Successfully installed azure-cognitiveservices-vision-computervision-0.9.0 azure-common-1.1.27 isodate-0.6.1 msrest-0.6.21\n",
            "Requirement already satisfied: pillow in /usr/local/lib/python3.7/dist-packages (7.1.2)\n"
          ]
        }
      ],
      "source": [
        "!pip install --upgrade azure-cognitiveservices-vision-computervision\n",
        "!pip install pillow"
      ]
    },
    {
      "cell_type": "code",
      "source": [
        "from azure.cognitiveservices.vision.computervision import ComputerVisionClient\n",
        "from azure.cognitiveservices.vision.computervision.models import OperationStatusCodes\n",
        "from azure.cognitiveservices.vision.computervision.models import VisualFeatureTypes\n",
        "from msrest.authentication import CognitiveServicesCredentials\n",
        "\n",
        "from array import array\n",
        "import os\n",
        "from PIL import Image\n",
        "import sys\n",
        "import time"
      ],
      "metadata": {
        "id": "WXcPBtGflu4s"
      },
      "execution_count": 2,
      "outputs": []
    },
    {
      "cell_type": "code",
      "source": [
        "subscription_key = \"64d1155c44c040e983d009386ce4f3c0\"\n",
        "endpoint = \"https://bully.cognitiveservices.azure.com/\""
      ],
      "metadata": {
        "id": "mlV2vvkHl_xS"
      },
      "execution_count": 3,
      "outputs": []
    },
    {
      "cell_type": "code",
      "source": [
        "#authenticate our notebook for azure computer vision\n",
        "cvcredentials = CognitiveServicesCredentials(subscription_key)\n",
        "computervision_client = ComputerVisionClient(endpoint, cvcredentials)"
      ],
      "metadata": {
        "id": "xCwWq4hJoWDV"
      },
      "execution_count": 4,
      "outputs": []
    },
    {
      "cell_type": "code",
      "source": [
        "baseurl = 'https://spideydump.blob.core.windows.net/imagesss/'\n",
        "\n",
        "imgname = ['Spidey', 'weapons', 'asgard','Gogalaxy','Benz']\n",
        "imgurl = {}\n",
        "for i in range(5):\n",
        "  fname =  baseurl + 'spd0' + str(i+1) + '.jpg'\n",
        "  imgurl[imgname[i]] = fname\n",
        "imgurl"
      ],
      "metadata": {
        "colab": {
          "base_uri": "https://localhost:8080/"
        },
        "id": "UcIe232poqse",
        "outputId": "bdc43ab0-5091-4473-d99c-464704c785c9"
      },
      "execution_count": 23,
      "outputs": [
        {
          "output_type": "execute_result",
          "data": {
            "text/plain": [
              "{'Benz': 'https://spideydump.blob.core.windows.net/imagesss/spd05.jpg',\n",
              " 'Gogalaxy': 'https://spideydump.blob.core.windows.net/imagesss/spd04.jpg',\n",
              " 'Spidey': 'https://spideydump.blob.core.windows.net/imagesss/spd01.jpg',\n",
              " 'asgard': 'https://spideydump.blob.core.windows.net/imagesss/spd03.jpg',\n",
              " 'weapons': 'https://spideydump.blob.core.windows.net/imagesss/spd02.jpg'}"
            ]
          },
          "metadata": {},
          "execution_count": 23
        }
      ]
    },
    {
      "cell_type": "markdown",
      "source": [
        "Image Desciption."
      ],
      "metadata": {
        "id": "lY96by-I7t6t"
      }
    },
    {
      "cell_type": "code",
      "source": [
        "for imname, imgur in imgurl.items():\n",
        "\n",
        "  description_results = computervision_client.describe_image(imgur)\n",
        "  print('Image = ' + imname)\n",
        "  print()\n",
        "  # Get the captions (descriptions) from the response, with confidence level\n",
        "  print(\"Description of remote image: \")\n",
        "  if (len(description_results.captions) == 0):\n",
        "      print(\"No description detected.\")\n",
        "      print('****')\n",
        "  else:\n",
        "      for caption in description_results.captions:\n",
        "          print(\"'{}' with confidence {:.2f}%\".format(caption.text, caption.confidence * 100))\n",
        "      print('****')"
      ],
      "metadata": {
        "colab": {
          "base_uri": "https://localhost:8080/"
        },
        "id": "UrZKf3ZBu4rv",
        "outputId": "3f6ea3d2-c6d6-4be0-e895-f682ae9d3bab"
      },
      "execution_count": 24,
      "outputs": [
        {
          "output_type": "stream",
          "name": "stdout",
          "text": [
            "Image = Spidey\n",
            "\n",
            "Description of remote image: \n",
            "'Tobey Maguire, Tom Holland are posing for a picture' with confidence 49.14%\n",
            "****\n",
            "Image = weapons\n",
            "\n",
            "Description of remote image: \n",
            "'a group of bugs' with confidence 32.04%\n",
            "****\n",
            "Image = asgard\n",
            "\n",
            "Description of remote image: \n",
            "'a city with tall towers and a river in the middle' with confidence 31.73%\n",
            "****\n",
            "Image = Gogalaxy\n",
            "\n",
            "Description of remote image: \n",
            "'a group of people in the sky' with confidence 44.31%\n",
            "****\n",
            "Image = Benz\n",
            "\n",
            "Description of remote image: \n",
            "'logo' with confidence 27.64%\n",
            "****\n"
          ]
        }
      ]
    },
    {
      "cell_type": "markdown",
      "source": [
        "Image Description with Tags."
      ],
      "metadata": {
        "id": "EMkB8HsY7oeB"
      }
    },
    {
      "cell_type": "code",
      "source": [
        "for imname, imgur in imgurl.items():\n",
        "  description_results = computervision_client.describe_image(imgur)\n",
        "  print('Image = ' + imname)\n",
        "  # Call API with remote image\n",
        "  tags_result_remote = computervision_client.tag_image(imgur)\n",
        "\n",
        "  # Print results with confidence score\n",
        "  print(\"Tags in the remote image: \")\n",
        "  if (len(tags_result_remote.tags) == 0):\n",
        "      print(\"No tags detected.\")\n",
        "      print('*****')\n",
        "  else:\n",
        "      for tag in tags_result_remote.tags:\n",
        "          print(\"'{}' with confidence {:.2f}%\".format(tag.name, tag.confidence * 100))\n",
        "      print('*****')"
      ],
      "metadata": {
        "id": "J06CTF-VwIXE",
        "colab": {
          "base_uri": "https://localhost:8080/"
        },
        "outputId": "7679b1a1-f123-40b3-87c0-321c81266154"
      },
      "execution_count": 25,
      "outputs": [
        {
          "output_type": "stream",
          "name": "stdout",
          "text": [
            "Image = Spidey\n",
            "Tags in the remote image: \n",
            "'person' with confidence 98.83%\n",
            "'clothing' with confidence 95.16%\n",
            "'human face' with confidence 93.89%\n",
            "'superhero' with confidence 92.81%\n",
            "'hero' with confidence 91.03%\n",
            "'fictional character' with confidence 90.24%\n",
            "'costume' with confidence 88.00%\n",
            "'woman' with confidence 84.44%\n",
            "*****\n",
            "Image = weapons\n",
            "Tags in the remote image: \n",
            "'cartoon' with confidence 86.48%\n",
            "'illustration' with confidence 49.87%\n",
            "'art' with confidence 46.70%\n",
            "*****\n",
            "Image = asgard\n",
            "Tags in the remote image: \n",
            "'outdoor' with confidence 98.39%\n",
            "'sky' with confidence 98.36%\n",
            "'cloud' with confidence 98.31%\n",
            "'mountain' with confidence 95.24%\n",
            "'water' with confidence 93.05%\n",
            "'skyscraper' with confidence 91.42%\n",
            "'building' with confidence 89.57%\n",
            "'skyline' with confidence 88.59%\n",
            "'lake' with confidence 86.14%\n",
            "'landscape' with confidence 79.05%\n",
            "'city' with confidence 61.78%\n",
            "'panorama' with confidence 54.29%\n",
            "*****\n",
            "Image = Gogalaxy\n",
            "Tags in the remote image: \n",
            "'sky' with confidence 98.29%\n",
            "'cloud' with confidence 90.45%\n",
            "'kite' with confidence 87.16%\n",
            "'bird' with confidence 84.39%\n",
            "'flight' with confidence 84.26%\n",
            "'outdoor' with confidence 79.89%\n",
            "'blue' with confidence 74.95%\n",
            "*****\n",
            "Image = Benz\n",
            "Tags in the remote image: \n",
            "'grille' with confidence 97.77%\n",
            "'vehicle' with confidence 96.33%\n",
            "'automotive design' with confidence 94.12%\n",
            "'luxury vehicle' with confidence 92.66%\n",
            "'headlamp' with confidence 91.80%\n",
            "'auto part' with confidence 89.85%\n",
            "'land vehicle' with confidence 88.68%\n",
            "'car' with confidence 88.52%\n",
            "'automotive lighting' with confidence 88.00%\n",
            "'hood' with confidence 86.32%\n",
            "'bumper' with confidence 84.01%\n",
            "'yellow' with confidence 66.02%\n",
            "'grate' with confidence 53.94%\n",
            "*****\n"
          ]
        }
      ]
    },
    {
      "cell_type": "markdown",
      "source": [
        "Detect Faces."
      ],
      "metadata": {
        "id": "DjiFYMLg7h9M"
      }
    },
    {
      "cell_type": "code",
      "source": [
        "for imname, imgur in imgurl.items():\n",
        "  description_results = computervision_client.describe_image(imgur)\n",
        "  print('Image = ' + imname)\n",
        "  # Get an image with faces\n",
        "\n",
        "  remote_image_features = [\"faces\"]\n",
        "  # Call the API with remote URL and features\n",
        "  detect_faces_results_remote = computervision_client.analyze_image(imgur, remote_image_features)\n",
        "\n",
        "  # Print the results with gender, age, and bounding box\n",
        "  print(\"Faces in the remote image: \")\n",
        "  if (len(detect_faces_results_remote.faces) == 0):\n",
        "      print(\"No faces detected.\")\n",
        "      print('*****')\n",
        "  else:\n",
        "      for face in detect_faces_results_remote.faces:\n",
        "          print(\"'{}' of age {} at location {}, {}, {}, {}\".format(face.gender, face.age, \\\n",
        "          face.face_rectangle.left, face.face_rectangle.top, \\\n",
        "          face.face_rectangle.left + face.face_rectangle.width, \\\n",
        "          face.face_rectangle.top + face.face_rectangle.height))\n",
        "      print('*****')"
      ],
      "metadata": {
        "colab": {
          "base_uri": "https://localhost:8080/"
        },
        "id": "uieOFrTu6v-n",
        "outputId": "1176b242-1149-468e-d4c8-c33039e547a9"
      },
      "execution_count": 32,
      "outputs": [
        {
          "output_type": "stream",
          "name": "stdout",
          "text": [
            "Image = Spidey\n",
            "Faces in the remote image: \n",
            "'Male' of age 30 at location 55, 29, 95, 69\n",
            "'Male' of age 22 at location 399, 27, 437, 65\n",
            "*****\n",
            "Image = weapons\n",
            "Faces in the remote image: \n",
            "No faces detected.\n",
            "*****\n",
            "Image = asgard\n",
            "Faces in the remote image: \n",
            "No faces detected.\n",
            "*****\n",
            "Image = Gogalaxy\n",
            "Faces in the remote image: \n",
            "No faces detected.\n",
            "*****\n",
            "Image = Benz\n",
            "Faces in the remote image: \n",
            "No faces detected.\n",
            "*****\n"
          ]
        }
      ]
    },
    {
      "cell_type": "markdown",
      "source": [
        "Detect the Celebrity."
      ],
      "metadata": {
        "id": "27_-8ym38cdb"
      }
    },
    {
      "cell_type": "code",
      "source": [
        "for imname, imgur in imgurl.items():\n",
        "  description_results = computervision_client.describe_image(imgur)\n",
        "  # Call API with content type (celebrities) and URL\n",
        "  detect_domain_results_celebs_remote = computervision_client.analyze_image_by_domain(\"celebrities\", imgur)\n",
        "\n",
        "  # Print detection results with name\n",
        "  print(\"Celebrities in the remote image:\")\n",
        "  if len(detect_domain_results_celebs_remote.result[\"celebrities\"]) == 0:\n",
        "      print(\"No celebrities detected.\")\n",
        "      print('*****')\n",
        "  else:\n",
        "      for celeb in detect_domain_results_celebs_remote.result[\"celebrities\"]:\n",
        "          print(celeb[\"name\"])\n",
        "      print('*****')"
      ],
      "metadata": {
        "colab": {
          "base_uri": "https://localhost:8080/"
        },
        "id": "UdmOjAw_7dtM",
        "outputId": "de4f01c4-79fb-40f8-ed1f-c12034bf91de"
      },
      "execution_count": 30,
      "outputs": [
        {
          "output_type": "stream",
          "name": "stdout",
          "text": [
            "Celebrities in the remote image:\n",
            "Tobey Maguire\n",
            "Tom Holland\n",
            "*****\n",
            "Celebrities in the remote image:\n",
            "No celebrities detected.\n",
            "*****\n",
            "Celebrities in the remote image:\n",
            "No celebrities detected.\n",
            "*****\n",
            "Celebrities in the remote image:\n",
            "No celebrities detected.\n",
            "*****\n",
            "Celebrities in the remote image:\n",
            "No celebrities detected.\n",
            "*****\n"
          ]
        }
      ]
    },
    {
      "cell_type": "markdown",
      "source": [
        "Detect Brands."
      ],
      "metadata": {
        "id": "BsrECL_h-Obi"
      }
    },
    {
      "cell_type": "code",
      "source": [
        "for imname, imgur in imgurl.items():\n",
        "  description_results = computervision_client.describe_image(imgur)\n",
        "  print('Image = ' + imname)\n",
        "  remote_image_features = [\"brands\"]\n",
        "  # Call API with URL and features\n",
        "  detect_brands_results_remote = computervision_client.analyze_image(imgur, remote_image_features)\n",
        "\n",
        "  print(\"Detecting brands in remote image: \")\n",
        "  if len(detect_brands_results_remote.brands) == 0:\n",
        "      print(\"No brands detected.\")\n",
        "      print('*****')\n",
        "  else:\n",
        "      for brand in detect_brands_results_remote.brands:\n",
        "          print(\"'{}' brand detected with confidence {:.1f}% at location {}, {}, {}, {}\".format( \\\n",
        "          brand.name, brand.confidence * 100, brand.rectangle.x, brand.rectangle.x + brand.rectangle.w, \\\n",
        "          brand.rectangle.y, brand.rectangle.y + brand.rectangle.h))\n",
        "      print('*****')"
      ],
      "metadata": {
        "colab": {
          "base_uri": "https://localhost:8080/"
        },
        "id": "lL_ZoHk68Y4e",
        "outputId": "664b09fc-1797-4229-8cb8-0220da12d2e8"
      },
      "execution_count": 31,
      "outputs": [
        {
          "output_type": "stream",
          "name": "stdout",
          "text": [
            "Image = Spidey\n",
            "Detecting brands in remote image: \n",
            "No brands detected.\n",
            "*****\n",
            "Image = weapons\n",
            "Detecting brands in remote image: \n",
            "No brands detected.\n",
            "*****\n",
            "Image = asgard\n",
            "Detecting brands in remote image: \n",
            "No brands detected.\n",
            "*****\n",
            "Image = Gogalaxy\n",
            "Detecting brands in remote image: \n",
            "No brands detected.\n",
            "*****\n",
            "Image = Benz\n",
            "Detecting brands in remote image: \n",
            "'Mercedes-Benz' brand detected with confidence 78.0% at location 417, 603, 216, 446\n",
            "*****\n"
          ]
        }
      ]
    },
    {
      "cell_type": "code",
      "source": [
        ""
      ],
      "metadata": {
        "id": "cxCyMXuw-Cgz"
      },
      "execution_count": null,
      "outputs": []
    }
  ]
}