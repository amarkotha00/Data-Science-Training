{
  "nbformat": 4,
  "nbformat_minor": 0,
  "metadata": {
    "colab": {
      "name": "00 List Comprehension.ipynb",
      "provenance": [],
      "include_colab_link": true
    },
    "kernelspec": {
      "name": "python3",
      "display_name": "Python 3"
    },
    "language_info": {
      "name": "python"
    }
  },
  "cells": [
    {
      "cell_type": "markdown",
      "metadata": {
        "id": "view-in-github",
        "colab_type": "text"
      },
      "source": [
        "<a href=\"https://colab.research.google.com/github/amarkotha00/diamler_17_jan/blob/main/List_Comprehension.ipynb\" target=\"_parent\"><img src=\"https://colab.research.google.com/assets/colab-badge.svg\" alt=\"Open In Colab\"/></a>"
      ]
    },
    {
      "cell_type": "code",
      "execution_count": null,
      "metadata": {
        "id": "StPDIw6594T-"
      },
      "outputs": [],
      "source": [
        "# lambda-> 1 line execution (also ETL)\n",
        "# list comprehension -> (ETL of LISTS)uses lambda style 1 line execution\n",
        "#       -> objective is to loop over a dataset and generate data \n",
        "#       -> Extract from a list, transform within a column, load the resulting\n",
        "#             list anywhere"
      ]
    },
    {
      "cell_type": "code",
      "source": [
        "odds = range(1,25, 2)"
      ],
      "metadata": {
        "id": "-hRLpKx0-b4c"
      },
      "execution_count": 1,
      "outputs": []
    },
    {
      "cell_type": "code",
      "source": [
        "print(type(odds))"
      ],
      "metadata": {
        "id": "pZw40WHZEOpZ",
        "outputId": "30c23776-fbaf-4c48-8992-ff6b259b83cb",
        "colab": {
          "base_uri": "https://localhost:8080/"
        }
      },
      "execution_count": 5,
      "outputs": [
        {
          "output_type": "stream",
          "name": "stdout",
          "text": [
            "<class 'range'>\n"
          ]
        }
      ]
    },
    {
      "cell_type": "code",
      "source": [
        "for i in odds:\n",
        "  print(i)"
      ],
      "metadata": {
        "colab": {
          "base_uri": "https://localhost:8080/"
        },
        "id": "3smtk6LI-kpy",
        "outputId": "f4acdf24-f6d9-4551-ae75-429aaceeebed"
      },
      "execution_count": 4,
      "outputs": [
        {
          "output_type": "stream",
          "name": "stdout",
          "text": [
            "1\n",
            "3\n",
            "5\n",
            "7\n",
            "9\n",
            "11\n",
            "13\n",
            "15\n",
            "17\n",
            "19\n",
            "21\n",
            "23\n"
          ]
        }
      ]
    },
    {
      "cell_type": "code",
      "source": [
        "# Transformation\n",
        "# syntax-> [ How_to_tx_individual_row for_loop_original_data ]\n",
        "even = [ odd+1 for odd in odds]"
      ],
      "metadata": {
        "id": "unRx9GxN-lY7"
      },
      "execution_count": 10,
      "outputs": []
    },
    {
      "cell_type": "code",
      "source": [
        "even"
      ],
      "metadata": {
        "colab": {
          "base_uri": "https://localhost:8080/"
        },
        "id": "-a2PqALG_Hty",
        "outputId": "8064a8a3-0196-4866-e6ec-609492af7760"
      },
      "execution_count": 11,
      "outputs": [
        {
          "output_type": "execute_result",
          "data": {
            "text/plain": [
              "[2, 4, 6, 8, 10, 12, 14, 16, 18, 20, 22, 24]"
            ]
          },
          "metadata": {},
          "execution_count": 11
        }
      ]
    },
    {
      "cell_type": "code",
      "source": [
        "# conditional tranformations\n",
        "square_div_by_5 = [ odd*odd if odd%5==0 else None for odd in odds]"
      ],
      "metadata": {
        "id": "ITGgDDNJ_IzY"
      },
      "execution_count": 12,
      "outputs": []
    },
    {
      "cell_type": "code",
      "source": [
        "square_div_by_5"
      ],
      "metadata": {
        "colab": {
          "base_uri": "https://localhost:8080/"
        },
        "id": "bnCP8FZ6_ncR",
        "outputId": "98091bf3-7e80-407e-b369-1ec443372711"
      },
      "execution_count": 13,
      "outputs": [
        {
          "output_type": "execute_result",
          "data": {
            "text/plain": [
              "[None, None, 25, None, None, None, None, 225, None, None, None, None]"
            ]
          },
          "metadata": {},
          "execution_count": 13
        }
      ]
    },
    {
      "cell_type": "code",
      "source": [
        "#dictionary comprehension \n",
        "nums= { 2:3, \"pikachu\":\"shaktiman\", True:False, 0.14:3.14}\n"
      ],
      "metadata": {
        "id": "2OSrowrM_pJ2"
      },
      "execution_count": 19,
      "outputs": []
    },
    {
      "cell_type": "code",
      "source": [
        "nums= { key:(value+1 if isinstance(key, int) else value) for key,value in nums.items()}"
      ],
      "metadata": {
        "id": "noXEE5tbGQ5d"
      },
      "execution_count": 29,
      "outputs": []
    },
    {
      "cell_type": "code",
      "source": [
        "nums"
      ],
      "metadata": {
        "id": "5NoE9SE-HjQw",
        "outputId": "7b231af1-b122-48a6-8268-9f86920bfde4",
        "colab": {
          "base_uri": "https://localhost:8080/"
        }
      },
      "execution_count": 30,
      "outputs": [
        {
          "output_type": "execute_result",
          "data": {
            "text/plain": [
              "{0.14: 4.140000000000001, 2: 4, True: 1, 'pikachu': 'shaktiman'}"
            ]
          },
          "metadata": {},
          "execution_count": 30
        }
      ]
    },
    {
      "cell_type": "code",
      "source": [
        "opposite_nums = { value:key for key,value in nums.items()}"
      ],
      "metadata": {
        "id": "2aUKANlrAzKW"
      },
      "execution_count": 31,
      "outputs": []
    },
    {
      "cell_type": "code",
      "source": [
        "opposite_nums"
      ],
      "metadata": {
        "colab": {
          "base_uri": "https://localhost:8080/"
        },
        "id": "G0qH5gnwBHmu",
        "outputId": "560fcc40-c9b4-42af-8f56-6e4c00e1f6b9"
      },
      "execution_count": 32,
      "outputs": [
        {
          "output_type": "execute_result",
          "data": {
            "text/plain": [
              "{1: True, 4: 2, 4.140000000000001: 0.14, 'shaktiman': 'pikachu'}"
            ]
          },
          "metadata": {},
          "execution_count": 32
        }
      ]
    },
    {
      "cell_type": "code",
      "source": [
        "word_thes = {1:\"hello\", 2:'bye', 3:'world', 4:'sun'}"
      ],
      "metadata": {
        "id": "HfTGIR-WBIvI"
      },
      "execution_count": null,
      "outputs": []
    },
    {
      "cell_type": "code",
      "source": [
        "# enter a new term- bird -> position 0, and word-> 1"
      ],
      "metadata": {
        "id": "C88tpbekBgnQ"
      },
      "execution_count": null,
      "outputs": []
    },
    {
      "cell_type": "code",
      "source": [
        "# enter a new element\n",
        "# shift all the keys by 1 position"
      ],
      "metadata": {
        "id": "rgTtNO9vBnua"
      },
      "execution_count": null,
      "outputs": []
    },
    {
      "cell_type": "code",
      "source": [
        ""
      ],
      "metadata": {
        "id": "MSUqlkLkBuW6"
      },
      "execution_count": null,
      "outputs": []
    },
    {
      "cell_type": "code",
      "source": [
        "word_thes = { k+1:v for k,v in word_thes.items()}"
      ],
      "metadata": {
        "id": "2uU7o5KJBzCz"
      },
      "execution_count": null,
      "outputs": []
    },
    {
      "cell_type": "code",
      "source": [
        "word_thes[0] = \"bird\"\n",
        "word_thes[1] = \"word\""
      ],
      "metadata": {
        "id": "IWK1IKXfB8x0"
      },
      "execution_count": null,
      "outputs": []
    },
    {
      "cell_type": "code",
      "source": [
        "word_thes"
      ],
      "metadata": {
        "colab": {
          "base_uri": "https://localhost:8080/"
        },
        "id": "Dwcm6msMB_kb",
        "outputId": "8733a9da-683b-4239-83e4-81713e327481"
      },
      "execution_count": null,
      "outputs": [
        {
          "output_type": "execute_result",
          "data": {
            "text/plain": [
              "{0: 'bird', 1: 'word', 2: 'hello', 3: 'bye', 4: 'world', 5: 'sun'}"
            ]
          },
          "metadata": {},
          "execution_count": 25
        }
      ]
    },
    {
      "cell_type": "code",
      "source": [
        ""
      ],
      "metadata": {
        "id": "XZN93B9vCBNY"
      },
      "execution_count": null,
      "outputs": []
    }
  ]
}