{
  "nbformat": 4,
  "nbformat_minor": 0,
  "metadata": {
    "colab": {
      "name": "04 NLTK.ipynb",
      "provenance": [],
      "collapsed_sections": [],
      "include_colab_link": true
    },
    "kernelspec": {
      "name": "python3",
      "display_name": "Python 3"
    }
  },
  "cells": [
    {
      "cell_type": "markdown",
      "metadata": {
        "id": "view-in-github",
        "colab_type": "text"
      },
      "source": [
        "<a href=\"https://colab.research.google.com/github/amarkotha00/Data-Science-Training/blob/main/03_NLTK.ipynb\" target=\"_parent\"><img src=\"https://colab.research.google.com/assets/colab-badge.svg\" alt=\"Open In Colab\"/></a>"
      ]
    },
    {
      "cell_type": "code",
      "source": [
        "import nltk\n",
        "nltk.download('all')"
      ],
      "metadata": {
        "id": "8Rs2IEVf5W8I",
        "outputId": "33b0b802-a072-49e5-ce0a-b878140398a5",
        "colab": {
          "base_uri": "https://localhost:8080/"
        }
      },
      "execution_count": 1,
      "outputs": [
        {
          "output_type": "stream",
          "name": "stdout",
          "text": [
            "[nltk_data] Downloading collection 'all'\n",
            "[nltk_data]    | \n",
            "[nltk_data]    | Downloading package abc to /root/nltk_data...\n",
            "[nltk_data]    |   Unzipping corpora/abc.zip.\n",
            "[nltk_data]    | Downloading package alpino to /root/nltk_data...\n",
            "[nltk_data]    |   Unzipping corpora/alpino.zip.\n",
            "[nltk_data]    | Downloading package averaged_perceptron_tagger to\n",
            "[nltk_data]    |     /root/nltk_data...\n",
            "[nltk_data]    |   Unzipping taggers/averaged_perceptron_tagger.zip.\n",
            "[nltk_data]    | Downloading package averaged_perceptron_tagger_ru to\n",
            "[nltk_data]    |     /root/nltk_data...\n",
            "[nltk_data]    |   Unzipping\n",
            "[nltk_data]    |       taggers/averaged_perceptron_tagger_ru.zip.\n",
            "[nltk_data]    | Downloading package basque_grammars to\n",
            "[nltk_data]    |     /root/nltk_data...\n",
            "[nltk_data]    |   Unzipping grammars/basque_grammars.zip.\n",
            "[nltk_data]    | Downloading package biocreative_ppi to\n",
            "[nltk_data]    |     /root/nltk_data...\n",
            "[nltk_data]    |   Unzipping corpora/biocreative_ppi.zip.\n",
            "[nltk_data]    | Downloading package bllip_wsj_no_aux to\n",
            "[nltk_data]    |     /root/nltk_data...\n",
            "[nltk_data]    |   Unzipping models/bllip_wsj_no_aux.zip.\n",
            "[nltk_data]    | Downloading package book_grammars to\n",
            "[nltk_data]    |     /root/nltk_data...\n",
            "[nltk_data]    |   Unzipping grammars/book_grammars.zip.\n",
            "[nltk_data]    | Downloading package brown to /root/nltk_data...\n",
            "[nltk_data]    |   Unzipping corpora/brown.zip.\n",
            "[nltk_data]    | Downloading package brown_tei to /root/nltk_data...\n",
            "[nltk_data]    |   Unzipping corpora/brown_tei.zip.\n",
            "[nltk_data]    | Downloading package cess_cat to /root/nltk_data...\n",
            "[nltk_data]    |   Unzipping corpora/cess_cat.zip.\n",
            "[nltk_data]    | Downloading package cess_esp to /root/nltk_data...\n",
            "[nltk_data]    |   Unzipping corpora/cess_esp.zip.\n",
            "[nltk_data]    | Downloading package chat80 to /root/nltk_data...\n",
            "[nltk_data]    |   Unzipping corpora/chat80.zip.\n",
            "[nltk_data]    | Downloading package city_database to\n",
            "[nltk_data]    |     /root/nltk_data...\n",
            "[nltk_data]    |   Unzipping corpora/city_database.zip.\n",
            "[nltk_data]    | Downloading package cmudict to /root/nltk_data...\n",
            "[nltk_data]    |   Unzipping corpora/cmudict.zip.\n",
            "[nltk_data]    | Downloading package comparative_sentences to\n",
            "[nltk_data]    |     /root/nltk_data...\n",
            "[nltk_data]    |   Unzipping corpora/comparative_sentences.zip.\n",
            "[nltk_data]    | Downloading package comtrans to /root/nltk_data...\n",
            "[nltk_data]    | Downloading package conll2000 to /root/nltk_data...\n",
            "[nltk_data]    |   Unzipping corpora/conll2000.zip.\n",
            "[nltk_data]    | Downloading package conll2002 to /root/nltk_data...\n",
            "[nltk_data]    |   Unzipping corpora/conll2002.zip.\n",
            "[nltk_data]    | Downloading package conll2007 to /root/nltk_data...\n",
            "[nltk_data]    | Downloading package crubadan to /root/nltk_data...\n",
            "[nltk_data]    |   Unzipping corpora/crubadan.zip.\n",
            "[nltk_data]    | Downloading package dependency_treebank to\n",
            "[nltk_data]    |     /root/nltk_data...\n",
            "[nltk_data]    |   Unzipping corpora/dependency_treebank.zip.\n",
            "[nltk_data]    | Downloading package dolch to /root/nltk_data...\n",
            "[nltk_data]    |   Unzipping corpora/dolch.zip.\n",
            "[nltk_data]    | Downloading package europarl_raw to\n",
            "[nltk_data]    |     /root/nltk_data...\n",
            "[nltk_data]    |   Unzipping corpora/europarl_raw.zip.\n",
            "[nltk_data]    | Downloading package floresta to /root/nltk_data...\n",
            "[nltk_data]    |   Unzipping corpora/floresta.zip.\n",
            "[nltk_data]    | Downloading package framenet_v15 to\n",
            "[nltk_data]    |     /root/nltk_data...\n",
            "[nltk_data]    |   Unzipping corpora/framenet_v15.zip.\n",
            "[nltk_data]    | Downloading package framenet_v17 to\n",
            "[nltk_data]    |     /root/nltk_data...\n",
            "[nltk_data]    |   Unzipping corpora/framenet_v17.zip.\n",
            "[nltk_data]    | Downloading package gazetteers to /root/nltk_data...\n",
            "[nltk_data]    |   Unzipping corpora/gazetteers.zip.\n",
            "[nltk_data]    | Downloading package genesis to /root/nltk_data...\n",
            "[nltk_data]    |   Unzipping corpora/genesis.zip.\n",
            "[nltk_data]    | Downloading package gutenberg to /root/nltk_data...\n",
            "[nltk_data]    |   Unzipping corpora/gutenberg.zip.\n",
            "[nltk_data]    | Downloading package ieer to /root/nltk_data...\n",
            "[nltk_data]    |   Unzipping corpora/ieer.zip.\n",
            "[nltk_data]    | Downloading package inaugural to /root/nltk_data...\n",
            "[nltk_data]    |   Unzipping corpora/inaugural.zip.\n",
            "[nltk_data]    | Downloading package indian to /root/nltk_data...\n",
            "[nltk_data]    |   Unzipping corpora/indian.zip.\n",
            "[nltk_data]    | Downloading package jeita to /root/nltk_data...\n",
            "[nltk_data]    | Downloading package kimmo to /root/nltk_data...\n",
            "[nltk_data]    |   Unzipping corpora/kimmo.zip.\n",
            "[nltk_data]    | Downloading package knbc to /root/nltk_data...\n",
            "[nltk_data]    | Downloading package large_grammars to\n",
            "[nltk_data]    |     /root/nltk_data...\n",
            "[nltk_data]    |   Unzipping grammars/large_grammars.zip.\n",
            "[nltk_data]    | Downloading package lin_thesaurus to\n",
            "[nltk_data]    |     /root/nltk_data...\n",
            "[nltk_data]    |   Unzipping corpora/lin_thesaurus.zip.\n",
            "[nltk_data]    | Downloading package mac_morpho to /root/nltk_data...\n",
            "[nltk_data]    |   Unzipping corpora/mac_morpho.zip.\n",
            "[nltk_data]    | Downloading package machado to /root/nltk_data...\n",
            "[nltk_data]    | Downloading package masc_tagged to /root/nltk_data...\n",
            "[nltk_data]    | Downloading package maxent_ne_chunker to\n",
            "[nltk_data]    |     /root/nltk_data...\n",
            "[nltk_data]    |   Unzipping chunkers/maxent_ne_chunker.zip.\n",
            "[nltk_data]    | Downloading package maxent_treebank_pos_tagger to\n",
            "[nltk_data]    |     /root/nltk_data...\n",
            "[nltk_data]    |   Unzipping taggers/maxent_treebank_pos_tagger.zip.\n",
            "[nltk_data]    | Downloading package moses_sample to\n",
            "[nltk_data]    |     /root/nltk_data...\n",
            "[nltk_data]    |   Unzipping models/moses_sample.zip.\n",
            "[nltk_data]    | Downloading package movie_reviews to\n",
            "[nltk_data]    |     /root/nltk_data...\n",
            "[nltk_data]    |   Unzipping corpora/movie_reviews.zip.\n",
            "[nltk_data]    | Downloading package mte_teip5 to /root/nltk_data...\n",
            "[nltk_data]    |   Unzipping corpora/mte_teip5.zip.\n",
            "[nltk_data]    | Downloading package mwa_ppdb to /root/nltk_data...\n",
            "[nltk_data]    |   Unzipping misc/mwa_ppdb.zip.\n",
            "[nltk_data]    | Downloading package names to /root/nltk_data...\n",
            "[nltk_data]    |   Unzipping corpora/names.zip.\n",
            "[nltk_data]    | Downloading package nombank.1.0 to /root/nltk_data...\n",
            "[nltk_data]    | Downloading package nonbreaking_prefixes to\n",
            "[nltk_data]    |     /root/nltk_data...\n",
            "[nltk_data]    |   Unzipping corpora/nonbreaking_prefixes.zip.\n",
            "[nltk_data]    | Downloading package nps_chat to /root/nltk_data...\n",
            "[nltk_data]    |   Unzipping corpora/nps_chat.zip.\n",
            "[nltk_data]    | Downloading package omw to /root/nltk_data...\n",
            "[nltk_data]    |   Unzipping corpora/omw.zip.\n",
            "[nltk_data]    | Downloading package omw-1.4 to /root/nltk_data...\n",
            "[nltk_data]    |   Unzipping corpora/omw-1.4.zip.\n",
            "[nltk_data]    | Downloading package opinion_lexicon to\n",
            "[nltk_data]    |     /root/nltk_data...\n",
            "[nltk_data]    |   Unzipping corpora/opinion_lexicon.zip.\n",
            "[nltk_data]    | Downloading package panlex_swadesh to\n",
            "[nltk_data]    |     /root/nltk_data...\n",
            "[nltk_data]    | Downloading package paradigms to /root/nltk_data...\n",
            "[nltk_data]    |   Unzipping corpora/paradigms.zip.\n",
            "[nltk_data]    | Downloading package pe08 to /root/nltk_data...\n",
            "[nltk_data]    |   Unzipping corpora/pe08.zip.\n",
            "[nltk_data]    | Downloading package perluniprops to\n",
            "[nltk_data]    |     /root/nltk_data...\n",
            "[nltk_data]    |   Unzipping misc/perluniprops.zip.\n",
            "[nltk_data]    | Downloading package pil to /root/nltk_data...\n",
            "[nltk_data]    |   Unzipping corpora/pil.zip.\n",
            "[nltk_data]    | Downloading package pl196x to /root/nltk_data...\n",
            "[nltk_data]    |   Unzipping corpora/pl196x.zip.\n",
            "[nltk_data]    | Downloading package porter_test to /root/nltk_data...\n",
            "[nltk_data]    |   Unzipping stemmers/porter_test.zip.\n",
            "[nltk_data]    | Downloading package ppattach to /root/nltk_data...\n",
            "[nltk_data]    |   Unzipping corpora/ppattach.zip.\n",
            "[nltk_data]    | Downloading package problem_reports to\n",
            "[nltk_data]    |     /root/nltk_data...\n",
            "[nltk_data]    |   Unzipping corpora/problem_reports.zip.\n",
            "[nltk_data]    | Downloading package product_reviews_1 to\n",
            "[nltk_data]    |     /root/nltk_data...\n",
            "[nltk_data]    |   Unzipping corpora/product_reviews_1.zip.\n",
            "[nltk_data]    | Downloading package product_reviews_2 to\n",
            "[nltk_data]    |     /root/nltk_data...\n",
            "[nltk_data]    |   Unzipping corpora/product_reviews_2.zip.\n",
            "[nltk_data]    | Downloading package propbank to /root/nltk_data...\n",
            "[nltk_data]    | Downloading package pros_cons to /root/nltk_data...\n",
            "[nltk_data]    |   Unzipping corpora/pros_cons.zip.\n",
            "[nltk_data]    | Downloading package ptb to /root/nltk_data...\n",
            "[nltk_data]    |   Unzipping corpora/ptb.zip.\n",
            "[nltk_data]    | Downloading package punkt to /root/nltk_data...\n",
            "[nltk_data]    |   Unzipping tokenizers/punkt.zip.\n",
            "[nltk_data]    | Downloading package qc to /root/nltk_data...\n",
            "[nltk_data]    |   Unzipping corpora/qc.zip.\n",
            "[nltk_data]    | Downloading package reuters to /root/nltk_data...\n",
            "[nltk_data]    | Downloading package rslp to /root/nltk_data...\n",
            "[nltk_data]    |   Unzipping stemmers/rslp.zip.\n",
            "[nltk_data]    | Downloading package rte to /root/nltk_data...\n",
            "[nltk_data]    |   Unzipping corpora/rte.zip.\n",
            "[nltk_data]    | Downloading package sample_grammars to\n",
            "[nltk_data]    |     /root/nltk_data...\n",
            "[nltk_data]    |   Unzipping grammars/sample_grammars.zip.\n",
            "[nltk_data]    | Downloading package semcor to /root/nltk_data...\n",
            "[nltk_data]    | Downloading package senseval to /root/nltk_data...\n",
            "[nltk_data]    |   Unzipping corpora/senseval.zip.\n",
            "[nltk_data]    | Downloading package sentence_polarity to\n",
            "[nltk_data]    |     /root/nltk_data...\n",
            "[nltk_data]    |   Unzipping corpora/sentence_polarity.zip.\n",
            "[nltk_data]    | Downloading package sentiwordnet to\n",
            "[nltk_data]    |     /root/nltk_data...\n",
            "[nltk_data]    |   Unzipping corpora/sentiwordnet.zip.\n",
            "[nltk_data]    | Downloading package shakespeare to /root/nltk_data...\n",
            "[nltk_data]    |   Unzipping corpora/shakespeare.zip.\n",
            "[nltk_data]    | Downloading package sinica_treebank to\n",
            "[nltk_data]    |     /root/nltk_data...\n",
            "[nltk_data]    |   Unzipping corpora/sinica_treebank.zip.\n",
            "[nltk_data]    | Downloading package smultron to /root/nltk_data...\n",
            "[nltk_data]    |   Unzipping corpora/smultron.zip.\n",
            "[nltk_data]    | Downloading package snowball_data to\n",
            "[nltk_data]    |     /root/nltk_data...\n",
            "[nltk_data]    | Downloading package spanish_grammars to\n",
            "[nltk_data]    |     /root/nltk_data...\n",
            "[nltk_data]    |   Unzipping grammars/spanish_grammars.zip.\n",
            "[nltk_data]    | Downloading package state_union to /root/nltk_data...\n",
            "[nltk_data]    |   Unzipping corpora/state_union.zip.\n",
            "[nltk_data]    | Downloading package stopwords to /root/nltk_data...\n",
            "[nltk_data]    |   Unzipping corpora/stopwords.zip.\n",
            "[nltk_data]    | Downloading package subjectivity to\n",
            "[nltk_data]    |     /root/nltk_data...\n",
            "[nltk_data]    |   Unzipping corpora/subjectivity.zip.\n",
            "[nltk_data]    | Downloading package swadesh to /root/nltk_data...\n",
            "[nltk_data]    |   Unzipping corpora/swadesh.zip.\n",
            "[nltk_data]    | Downloading package switchboard to /root/nltk_data...\n",
            "[nltk_data]    |   Unzipping corpora/switchboard.zip.\n",
            "[nltk_data]    | Downloading package tagsets to /root/nltk_data...\n",
            "[nltk_data]    |   Unzipping help/tagsets.zip.\n",
            "[nltk_data]    | Downloading package timit to /root/nltk_data...\n",
            "[nltk_data]    |   Unzipping corpora/timit.zip.\n",
            "[nltk_data]    | Downloading package toolbox to /root/nltk_data...\n",
            "[nltk_data]    |   Unzipping corpora/toolbox.zip.\n",
            "[nltk_data]    | Downloading package treebank to /root/nltk_data...\n",
            "[nltk_data]    |   Unzipping corpora/treebank.zip.\n",
            "[nltk_data]    | Downloading package twitter_samples to\n",
            "[nltk_data]    |     /root/nltk_data...\n",
            "[nltk_data]    |   Unzipping corpora/twitter_samples.zip.\n",
            "[nltk_data]    | Downloading package udhr to /root/nltk_data...\n",
            "[nltk_data]    |   Unzipping corpora/udhr.zip.\n",
            "[nltk_data]    | Downloading package udhr2 to /root/nltk_data...\n",
            "[nltk_data]    |   Unzipping corpora/udhr2.zip.\n",
            "[nltk_data]    | Downloading package unicode_samples to\n",
            "[nltk_data]    |     /root/nltk_data...\n",
            "[nltk_data]    |   Unzipping corpora/unicode_samples.zip.\n",
            "[nltk_data]    | Downloading package universal_tagset to\n",
            "[nltk_data]    |     /root/nltk_data...\n",
            "[nltk_data]    |   Unzipping taggers/universal_tagset.zip.\n",
            "[nltk_data]    | Downloading package universal_treebanks_v20 to\n",
            "[nltk_data]    |     /root/nltk_data...\n",
            "[nltk_data]    | Downloading package vader_lexicon to\n",
            "[nltk_data]    |     /root/nltk_data...\n",
            "[nltk_data]    | Downloading package verbnet to /root/nltk_data...\n",
            "[nltk_data]    |   Unzipping corpora/verbnet.zip.\n",
            "[nltk_data]    | Downloading package verbnet3 to /root/nltk_data...\n",
            "[nltk_data]    |   Unzipping corpora/verbnet3.zip.\n",
            "[nltk_data]    | Downloading package webtext to /root/nltk_data...\n",
            "[nltk_data]    |   Unzipping corpora/webtext.zip.\n",
            "[nltk_data]    | Downloading package wmt15_eval to /root/nltk_data...\n",
            "[nltk_data]    |   Unzipping models/wmt15_eval.zip.\n",
            "[nltk_data]    | Downloading package word2vec_sample to\n",
            "[nltk_data]    |     /root/nltk_data...\n",
            "[nltk_data]    |   Unzipping models/word2vec_sample.zip.\n",
            "[nltk_data]    | Downloading package wordnet to /root/nltk_data...\n",
            "[nltk_data]    |   Unzipping corpora/wordnet.zip.\n",
            "[nltk_data]    | Downloading package wordnet2021 to /root/nltk_data...\n",
            "[nltk_data]    |   Unzipping corpora/wordnet2021.zip.\n",
            "[nltk_data]    | Downloading package wordnet31 to /root/nltk_data...\n",
            "[nltk_data]    |   Unzipping corpora/wordnet31.zip.\n",
            "[nltk_data]    | Downloading package wordnet_ic to /root/nltk_data...\n",
            "[nltk_data]    |   Unzipping corpora/wordnet_ic.zip.\n",
            "[nltk_data]    | Downloading package words to /root/nltk_data...\n",
            "[nltk_data]    |   Unzipping corpora/words.zip.\n",
            "[nltk_data]    | Downloading package ycoe to /root/nltk_data...\n",
            "[nltk_data]    |   Unzipping corpora/ycoe.zip.\n",
            "[nltk_data]    | \n",
            "[nltk_data]  Done downloading collection all\n"
          ]
        },
        {
          "output_type": "execute_result",
          "data": {
            "text/plain": [
              "True"
            ]
          },
          "metadata": {},
          "execution_count": 1
        }
      ]
    },
    {
      "cell_type": "code",
      "metadata": {
        "id": "rkuLKQpdwmM8",
        "colab": {
          "base_uri": "https://localhost:8080/"
        },
        "outputId": "f1b25567-c9dd-4ca9-d7f7-314a1a67d4dd"
      },
      "source": [
        "# NLTK -> Natural Language Toolkit \n",
        "\n",
        "import nltk\n",
        "fl = open('text.txt','rt')\n",
        "data = fl.read()\n",
        "from nltk.tokenize import sent_tokenize\n",
        "sent_tokenize(data)"
      ],
      "execution_count": 2,
      "outputs": [
        {
          "output_type": "execute_result",
          "data": {
            "text/plain": [
              "['Allu Arjun (born 8 April 1982) is an Indian actor who predominantly works in Telugu films.',\n",
              " 'He is one of the highest paid actors in South India[3] and known for his dancing abilities,[4] Allu is a recipient of several awards, including five Filmfare Awards South and five Nandi Awards.',\n",
              " \"[5] Since 2014, he has been featured in Forbes India's Celebrity 100 list based on his income and popularity.\",\n",
              " '[6]\\n\\nAllu made his debut with Gangotri in 2003.',\n",
              " \"He rose to prominence starring in Sukumar's cult classic Arya (2004), for which he earned a Nandi Special Jury Award.\",\n",
              " '[7] Allu consolidated his reputation with the action films Bunny (2005) and Desamuduru (2007).',\n",
              " 'In 2008, Allu starred in the romantic drama Parugu, for which he won his first Filmfare Award for Best Actor – Telugu.',\n",
              " '[8]\\n\\nAllu went on to star in notable films such as Arya 2 (2009), Vedam (2010), Julayi (2012), Race Gurram (2014), S/O Satyamurthy (2015), Rudhramadevi (2015), Sarrainodu (2016), DJ: Duvvada Jagannadham (2017), Ala Vaikunthapurramuloo (2020), and Pushpa: The Rise (2021).',\n",
              " 'His performances as a lower class cable operator in Vedam and as a carefree street smart man in Race Gurram won him two more Filmfare Awards for Best Actor – Telugu.',\n",
              " 'Allu also won the Filmfare Award for Best Supporting Actor for his portrayal of prince Gona Ganna Reddy in Rudhramadevi.',\n",
              " 'Allu endorses a number of brands and products, and is a celebrity brand ambassador for the Pro Kabaddi League[9] and for the streaming service Aha.',\n",
              " '[10][11]\\n\\n\\nContents\\n1\\tEarly life\\n2\\tCareer\\n2.1\\tCareer beginnings (1985–1986; 2001–2007)\\n2.2\\tExperimentation of genres (2007–2010)\\n2.3\\tFurther success (2011–2013)\\n2.4\\tCommercial success (2014–2018)\\n2.5\\tAla Vaikunthapurramuloo and beyond (2019–present)\\n3\\tOther work and media image\\n4\\tPersonal life\\n5\\tFilmography, awards and nominations\\n6\\tNotes\\n7\\tReferences\\n8\\tExternal links\\nEarly life\\nAllu Arjun was born on 8 April 1982[a] in a Telugu family in Madras (present-day Chennai) to film producer Allu Aravind and Nirmala.',\n",
              " 'His paternal grandfather was the film comedian Allu Ramalingaiah.',\n",
              " 'Their native place is Palakollu of West Godavari district, Andhra Pradesh.',\n",
              " '[15] Allu grew up in Chennai before their family moved to Hyderabad in his 20s.',\n",
              " '[16][17]\\n\\nHe is the second of three children.',\n",
              " 'His elder brother Venkatesh is a businessman while his younger brother Sirish is an actor.',\n",
              " 'His paternal aunt is married to Chiranjeevi.',\n",
              " \"Allu's cousins, namely, Ram Charan, Varun Tej, Sai Dharam Tej, and Niharika Konidela are also actors.\",\n",
              " '[18]\\n\\nCareer\\nCareer beginnings (1985–1986; 2001–2007)\\nAfter playing as a child artist in Vijetha (1985) and as a dancer in Daddy (1986), Allu made his adult debut in Gangotri.',\n",
              " '[19] The film was directed by K. Raghavendra Rao with his father Allu Aravind producing, along with C. Ashwini Dutt.',\n",
              " '[20] Praising his acting performance, Jeevi of Idlebrain criticized his looks in the film and added that \"Arjun should choose roles that amplify his strength and nullify his weaknesses.',\n",
              " '\"[21] Allu then appeared in Sukumar\\'s Arya.',\n",
              " '[22] He plays \"Arya\", an outgoing and free-spirited boy falling in love with Geetha (Anu Mehta), an introverted girl who is on the shield of another person Ajay (Siva Balaji).',\n",
              " '[23] The film was his breakthrough, earning a first Filmfare Best Telugu Actor Award nomination and winning a Nandi Special Jury Award at the Nandi Awards of 2008 ceremony, two CineMAA Awards for Best Actor and Best Actor Jury.',\n",
              " '[24] The film was a critical and commercial success,[25] grossing over ₹30 crore,[26] with a production budget of ₹4 crore.',\n",
              " '[27] In 2006, the film was dubbed and released in Malayalam in Kerala.',\n",
              " \"Owing to the film's success, Allu received wide acclaim across the region and the Malayali people.\",\n",
              " '[28]\\n\\nHe next starred in V. V. Vinayak\\'s Bunny playing \"Bunny\", a college student.',\n",
              " '[29] Being successful at the box office, critics praised his efforts, mannerisms and dancing.',\n",
              " \"[30][31] His next film was A. Karunakaran's musical love story Happy.\",\n",
              " '[32] A remake of 2004 Tamil film Azhagiya Theeye, the film was a box-office bomb.',\n",
              " '[33] A critic appreciated his dancing skills and performance, but felt that his character is a typical happy-go-lucky guy.',\n",
              " \"[34]\\n\\nExperimentation of genres (2007–2010)\\nHe then starred in Puri Jagannadh's action film Desamuduru in which he played the role of Bala Govindam, a fearless journalist who falls for a woman with a darker past.\",\n",
              " '[35] The film was a commercial hit, fetching him a Santosham Film Award, a CineMAA Award and a nomination for the Filmfare Award for Best Actor – Telugu.',\n",
              " '[36] The same year, he made his second cameo appearance alongside Chiranjeevi, in the song \"Jagadeka Veerudiki\" from the film Shankar Dada Zindabad.',\n",
              " \"His next film was Bhaskar's Parugu, where he played the role of Krishna, a happy-go-lucky man from Hyderabad who helps his friend to elope with his love, only to experience the wrath of the woman's father and the emotional struggle he felt.\",\n",
              " 'Idlebrain wrote: \"Allu Arjun is pretty excellent in the first half as the characterization in the first half is vibrant and needs loads of energy.',\n",
              " 'He carried the entire first half on his shoulders.',\n",
              " 'He excelled in the emotional scenes in the second half.',\n",
              " '\"[37] Writing for Rediff.com, Radhikha Rajamani stated that \"Arjun performs well though he is rather subdued.',\n",
              " '\"[38] Allu won his first Filmfare Award for Best Actor – Telugu and second Nandi Special Jury Award.',\n",
              " \"Allu next starred in Sukumar's action comedy Arya 2.\",\n",
              " 'A spiritual sequel to the romantic action film Arya (2004), he played the role of Arya, an orphan who is behaviourally sick in that he is consumed with possessiveness for his friend Ajay (Navdeep), who never accepts him.',\n",
              " 'The film features the complex love–hate relationship and a triangular love story.',\n",
              " '[39] His character in the film has the qualities of a psychotic.',\n",
              " '[40] Sify wrote that \"Allu Arjun is full of energy as the guy caught in the powerful current of love.',\n",
              " 'Though he plays the part with negative shades, his characterization could evoke a lot of sympathy from the audiences.',\n",
              " 'His dances are mind-blowing and he excels in emotional scenes.',\n",
              " '\"[41] Oneindia appreciated his dance moves and acting performances, especially the comedy scenes.',\n",
              " '[42]\\n\\nAllu had two releases in 2010.',\n",
              " \"The first was Gunasekhar's Varudu, in which he starred alongside Arya and Bhanu Sri Mehra.\",\n",
              " '[43] The film was a box-office bomb and received mixed reviews from the critics.',\n",
              " \"[44][45] His next film was Krish's Vedam.\",\n",
              " 'A critic stated commented that \"He\\'s a good dancer and does justice to his role.',\n",
              " '\"[46] Another critic wrote that \"Allu Arjun is excellent as the groom who goes all out to get his bride back.',\n",
              " 'His mass dialogues are good in the second half.',\n",
              " '\"[47] His second release of the year was the highly acclaimed hyperlink anthology film Vedam.',\n",
              " 'It his first A-rated film in India.',\n",
              " 'He played the role of Anand \"Cable\" Raju, a cable operator hailing from Jubilee Hills (Hyderabad) slum.',\n",
              " 'The film also features Anushka Shetty, Manchu Manoj and Manoj Bajpayee in other prominent roles.',\n",
              " '[48] the story takes an inspiration from 26/11 Mumbai blasts in Taj Mahal Palace Hotel, Mumbai.',\n",
              " '[49] His performance received appreciation from the critics,[50] with The Times of India calling it \"scintillating\"[51] and Idlebrain.com calling it as \"best in his career\".',\n",
              " '[52] Allu achieved his second Filmfare Award for Best Actor – Telugu at the 58th Filmfare Awards South.',\n",
              " \"Further success (2011–2013)\\nHe next appeared in V. V. Vinayak's action film Badrinath (2011), in which he played the role of Badri, a modern-day Indian samurai who is assigned to protect the Badrinath Temple by his Guru (Prakash Raj), to whom he is very loyal.\",\n",
              " '[53] Allu undertook intensive martial arts and sword fighting training in Vietnam[54][55] and marks his first pairing with Tamannaah.',\n",
              " '[56] He grew his hair out for his look as a warrior in the film.',\n",
              " '[citation needed] It his second A-rated film in India after Vedam (2010), on the account of graphic action violence.',\n",
              " '[57] The film completed a 50-day run in 187 movie theaters.',\n",
              " '[58] His performance and character received mixed reviews.',\n",
              " '[59][60] A critic of The Times of India wrote that \"Arjun hardly has any scope to emote as he was mostly pushed into action scenes and song sequences.',\n",
              " '\"[61]\\n\\nAfter Badrinath, Allu signed Trivikram Srinivas\\'s action comedy film Julayi in 2011.',\n",
              " '[62] It was released in 2012, in which he played the role of Ravindra Narayan, a street-smart yet spoilt brat whose life takes a drastic turn after he becomes the witness of a huge bank robbery.',\n",
              " 'A critic wrote that \"Allu Arjun puts in a confident performance as the loveable rogue.',\n",
              " \"It's a role that is right up his alley and he carries it off with a characteristic panache.\",\n",
              " 'He lights up the screen with his dancing in particular, pulling off some pretty challenging dance moves.',\n",
              " '\"[63] Riya Chakravarty of NDTV, in her review, stated that \"Arjun has delivered an outstanding performance.',\n",
              " '\"[64] He was nominated for the SIIMA Award for Best Actor (Telugu), for his performance in the film.',\n",
              " \"Allu (left) on the sets of Iddarammayilatho (2013)\\nThe next year, he starred in Puri Jagannadh's action thriller Iddarammayilatho, playing Sanju Reddy, a guitarist with a dark past, alongside Amala Paul and Catherine Tresa.\",\n",
              " 'Sangeetha Devi Dundoo of The Hindu praised his performance in the action sequences and dance moves in various songs in the film, adding \"Allu Arjun uses his agility to his advantage in dances and stunt episodes\".',\n",
              " '[65] Another critic wrote that \"True to his tag of \"stylish star\", Allu Arjun looks trendier than ever before.',\n",
              " 'His character of a guitarist, who is a street performer in Barcelona, was at its best sketchy, and looks completely different from his previous films.',\n",
              " \"He once again proves that he is a good actor and probably because of the action director's meticulous planning, he makes perfect expressions in all the fight scenes.\",\n",
              " '\"[66][67] The film marks his second and last collaboration, with Puri Jagannadh after Desamuduru (2007).',\n",
              " \"Commercial success (2014–2018)\\nIn 2014, he appeared in a cameo role in Vamsi Paidipally's action thriller film Yevadu, alongside Kajal Aggarwal.\",\n",
              " '[68][69] Y. Sunita Chowdary of The Hindu, in her review, wrote that \"Allu Arjun shows what an actor can do even in a short role, in the few minutes he packs his experience, internalises the character and makes an impressive exit even as he loses his identity.',\n",
              " '\"[70] His next film was Surender Reddy\\'s Race Gurram, in which he played Allu Lakshman \"Lucky\" Prasad, a carefree guy.',\n",
              " '[71] He joined the production of the film in May 2013.',\n",
              " \"[72] The film was successful at the box office, with the film being Allu's first ₹100 crore grosser.\",\n",
              " '[73] Writing to Deccan Chronicle, Suresh Kavirayani felt that Allu Arjun steals the show with his energetic performance and also praised his dancing skills in the film.',\n",
              " '[74] Ranjani Rajendra too praised his dance moves, comic acting and performance in the action sequences, but felt that the story is predictable and routine.',\n",
              " '[75] He won his third Filmfare Award for Best Actor – Telugu[76] and was nominated for SIIMA Award for Best Actor (Telugu) for the second time after Julayi.',\n",
              " 'Allu produced and acted in a short film I Am That Change, which was released in August 2014.',\n",
              " 'The film was directed by Sukumar,[77] to spread awareness on individual social responsibility.',\n",
              " 'Upon its release, the short film received viral response online and was acclaimed by many including celebrities for its concept and execution.',\n",
              " '[78] It was screened in movie theaters across Andhra Pradesh and Telangana.',\n",
              " \"[79]\\n\\nAllu next appeared in Trivikram Srinivas's S/O Satyamurthy (2015), which was released on 9 April 2015.\",\n",
              " '[80] The film was a commercial success, with critics praising his performance.',\n",
              " \"[81][82] Following the film, he next played Gona Ganna Reddy in Guna Sekhar's biographical action film Rudhramadevi (2015).\",\n",
              " '[83][better source needed] The film based on the life of Rudrama Devi, is the first Indian 3D historical film.',\n",
              " '[84][85] Allu has learned and was seen speaking in the Telangana Telugu, for the character in the film.',\n",
              " '[86] The Times of India called his performance \"impeccable\" and \"whistle-worthy\".',\n",
              " \"[87] Due to the wide response and popularity for the character 'Gona Ganna Reddy', in 2021 director Guna Sekhar said that he will be directing a film solely based on the character, with Allu in the lead role, after Shaakuntalam.\",\n",
              " '[88] For Rudhramadevi, he won the Filmfare Award for Best Supporting Actor – Telugu and became the only actor to win both the Filmfare Award for Best Actor – Telugu and the Filmfare Award for Best Supporting Actor – Telugu.',\n",
              " 'He also won three other awards for his performance, including Nandi Award for Best Character Actor.',\n",
              " 'Allu, in 2018, along with Vijay Deverakonda, at a promotional event of Geetha Govindam\\nIn 2016, he acted in Sarrainodu, directed by Boyapati Srinu.',\n",
              " '[89] Although the film received negative reviews for the screenplay and story,[90][91] it was a major commercial success at the box office, grossing over ₹127.6 crore.',\n",
              " '[92] Allu called it as a \"landmark film\" in his career.',\n",
              " '[93] His performance in the action scenes and dance numbers was praised.',\n",
              " '[94] The same year, in June, he announced his next film with producer Dil Raju for the third time for DJ: Duvvada Jagannadham.',\n",
              " 'Released in 2017,[95] the film directed by Harish Shankar,[96] in which he played the role of Duvvada Jagannadham \"DJ\" Shastri, alongside Pooja Hegde, Rao Ramesh and Subbaraju.',\n",
              " '[97] He appears as a caterer, who is an undercover cop.',\n",
              " 'Firstpost\\'s Hemanth Kumar praised his dance and wrote that \"look beyond Allu Arjun’s classy moves in Seeti Maar and Asmaika Yoga, all you find is a story that struggles to find its rhythm.',\n",
              " '\"[98] India Today too lauded his dance but criticized the film\\'s screenplay and called it \"Boring-ah, bore-asya, bore-obiah\".',\n",
              " '[99]\\n\\nThe next year, in May, his film under the direction of writer turned director Vakkantham Vamsi, Naa Peru Surya, Naa Illu India was released.',\n",
              " 'He played Surya, an Indian Army soldier who has anger management issues.',\n",
              " '[100] Allu spent considerable time learning the tricks and stunt sequences from professionals, especially for the dance numbers and action sequences.',\n",
              " '[101] Upon release, the film received mixed reviews and was successful at the box office.',\n",
              " 'A critic called his performance as Allu\\'s \"carrer-best\" and cited it as the \"biggest strength to the film\".',\n",
              " '[102] Vyas of The Hans India stated that \"Allu Arjun is supremely talented and has delivered an energetic performance in the movie.',\n",
              " '\"[103] Hindustan Times\\'s Priyanka Sundar opined that \"Allu Arjun tries to do his best in the shoes of a soldier, but at places we see that it looks forced.',\n",
              " '\"[104]\\n\\nAla Vaikunthapurramuloo and beyond (2019–present)\\nOn 31 December 2018, his next project Ala Vaikunthapurramuloo was announced, with Trivikram Srinivas as the director.',\n",
              " '[105] Pooja Hegde was selected to play the female lead role,[106] thus marking his second collaboration with Pooja Hegde after DJ: Duvvada Jagannadham.',\n",
              " '[107] He joined the production of the film in April 2019.',\n",
              " '[108] Produced jointly by Allu Aravind and S. Radha Krishna, the film marks the third collaboration of Allu and Trivikram after Julayi (2012) and S/O Satyamurthy (2015).',\n",
              " '[109] In January 2020, the film was released.',\n",
              " '[110] The plot of the film follows Bantu (Allu) who is hated and neglected by his father Valmiki (Murali Sharma).',\n",
              " 'Bantu later learns that he was swapped as an infant and his biological father is an affluent businessman, Ramachandra (Jayaram).',\n",
              " \"Bantu enters Ramachandra's house, Vaikuntapuram to protect his biological family when it is threatened by an influential man (Samuthirakani).\",\n",
              " \"Allu's performance received highly positive reviews.\",\n",
              " 'A review posted by Rohit Mohan on Koimoi said that \"Be it comedy, action, emotions, style and of course dance, the star actor nails it in the film, as ‘Bunny’ made to audience groove to his tunes with his act.',\n",
              " '\"[111] Film Companion felt that Allu\\'s performance in the board-room scene was the highlight of the film.',\n",
              " '[112] Bhavana Sharma of International Business Times, opined that Allu went into the skin of the character.',\n",
              " \"[113] The film his career's highest grosser and is currently the fourth highest-grossing Telugu film.\",\n",
              " 'Allu\\'s dance performance in the song \"Butta Bomma\" received wide response, with Shilpa Shetty[114] and Disha Patani[115] eventually praising the song.',\n",
              " 'His next film Pushpa: The Rise, is under the direction of Sukumar, marking their fourth collaboration after Arya (2004), Arya 2 (2009) and I Am That Change (2014).',\n",
              " '[116] Allu started his part of filming, in 2020, after the release of Ala Vaikunthapurramuloo.',\n",
              " '[117][118] Production of the film was paused for more than three time, due to COVID-19 pandemic in India.',\n",
              " 'He will be playing the role of Pushpa Raj,[119] alongside Fahadh Faasil[120] and Rashmika Mandanna.',\n",
              " '[121] The film is based on the on the red sanders smuggling in the Seshachalam Hills of the Rayalaseema region of Andhra Pradesh.',\n",
              " '[122] The film was released on 17 December 2021 to mixed response but his performance was praised.',\n",
              " 'In May 2021, it was announced that the film will be released in two parts, with the second part, titled Pushpa: The Rule, releasing in 2022.',\n",
              " '[123][124]\\n\\nOther work and media image\\nHis popularity was documented in two Telugu music videos.',\n",
              " 'The first one is a rap song, composed by S. Thaman and performed by Roll Rida and Harika Narayan with the lyrics written by Roll Rida and The Hyderabad Nawabs.',\n",
              " '[125][126] The music video titled \"Allu Arjun Rap Song\" was released in January 2021, through Aditya Music label.',\n",
              " '[127][128] The other one is titled \"Thaggedhe Le\" was performed and written by Roll Rida, with the music composed by Pravin Lakkaraju.',\n",
              " \"It was released in April 2021 with the title being adapted from Allu's popular dialogue from his film Pushpa: The Rise.\",\n",
              " '[129][130]\\n\\nAllu was featured in the GQ in their listing of the most influential young Indians of 2020.',\n",
              " \"[131][132] He has appeared in Forbes India's Celebrity 100 list since 2014.\",\n",
              " \"[133] He is the 'Most Searched Male Celebrity' in 2020 on Yahoo!\",\n",
              " 'India.',\n",
              " '[134][135] Allu was the most searched Telugu film actor on Google Search, for several times.',\n",
              " '[136][137]\\n\\nHe is popularly referred to as \"Stylish Star\", \"Icon Star\", or as \"Bunny\", in the media.',\n",
              " '[138][139] Post the continuous success of his films in Kerala, since Arya (2004), he has been called as \"Mallu Arjun\".',\n",
              " '[140][141] Even, the media in Kerala, mostly refers him with the same name.',\n",
              " '[142] In 2021, the Kerala Police used few scenes featuring him from the film Race Gurram (2014), in their advertisement, to raise awareness about SOS and promote their newly launched app.',\n",
              " '[143][144][145]\\n\\nAllu is the celebrity endorser for a number of brands and products, including Hero MotoCorp,[146][147] RedBus, Hotstar,[148] Frooti,[149] OLX, Colgate, 7 Up, Joyalukkas and Lot Mobiles.',\n",
              " \"[9] He has been as a celebrity ambassador for India's premier Kabaddi tournament Pro Kabaddi League.\",\n",
              " '[9] He is an active promoter and a celebrity brand ambassador for his father Allu Aravind-founded over-the-top media service, Aha.',\n",
              " '[150][151] In 2021, Allu played the role of Guru in the Dream Vault Media-produced advertising campaign video, for Rapido.',\n",
              " '[152] On being part of the ad film, Allu said that \"I like to consider myself as a person who knows how to tackle a situation with the best possible solution.',\n",
              " 'That’s why I was excited when they approached me for the role of Guru, which resembles me\".',\n",
              " '[153] Following the release of the ad film, the Telangana State Road Transport Corporation sent a legal notice to both the actor and the Rapido company, for showing TSRTC in a bad-light.',\n",
              " '[154][155] Soon after, the company has edited the video (ad film).',\n",
              " '[156]\\n\\nAllu is also a charcoal artist.',\n",
              " '[157] He started a campaign against the smoking of tobacco, in 2021.',\n",
              " 'He said that \"I wanted to draw people’s attention towards the ill-effects of smoking.',\n",
              " 'We have constructed very incorrect notions of what’s cool and hep.',\n",
              " 'I want to effect a change, no matter how small it is.',\n",
              " '\"[158]']"
            ]
          },
          "metadata": {},
          "execution_count": 2
        }
      ]
    },
    {
      "cell_type": "code",
      "metadata": {
        "id": "L-c54ehuxu01",
        "colab": {
          "base_uri": "https://localhost:8080/"
        },
        "outputId": "561982ce-f39e-43f3-b774-efbccc8ef0e4"
      },
      "source": [
        "txt = 'Hello world, Bye bye world! How are you?'\n",
        "from nltk.tokenize import sent_tokenize\n",
        "sent_tokenize(txt)"
      ],
      "execution_count": 3,
      "outputs": [
        {
          "output_type": "execute_result",
          "data": {
            "text/plain": [
              "['Hello world, Bye bye world!', 'How are you?']"
            ]
          },
          "metadata": {},
          "execution_count": 3
        }
      ]
    },
    {
      "cell_type": "code",
      "metadata": {
        "id": "GFDWPtnoyiCQ",
        "colab": {
          "base_uri": "https://localhost:8080/"
        },
        "outputId": "9934c79f-4b4c-4260-8b1c-a7f42b3e12e2"
      },
      "source": [
        "# foregin languages \n",
        "sent_tokenize('Como estais amigo! No habla espanol', 'spanish')\n"
      ],
      "execution_count": null,
      "outputs": [
        {
          "output_type": "execute_result",
          "data": {
            "text/plain": [
              "['Como estais amigo!', 'No habla espanol']"
            ]
          },
          "metadata": {},
          "execution_count": 5
        }
      ]
    },
    {
      "cell_type": "code",
      "source": [
        "sent_tokenize('Enchante! Tres bien. Comment allez-vous?', 'french')"
      ],
      "metadata": {
        "id": "djcSVrtt6IdX",
        "outputId": "81dfe0d0-15b9-497c-809b-69e97b5f5f42",
        "colab": {
          "base_uri": "https://localhost:8080/"
        }
      },
      "execution_count": null,
      "outputs": [
        {
          "output_type": "execute_result",
          "data": {
            "text/plain": [
              "['Enchante!', 'Tres bien.', 'Comment allez-vous?']"
            ]
          },
          "metadata": {},
          "execution_count": 6
        }
      ]
    },
    {
      "cell_type": "code",
      "metadata": {
        "id": "OrbeRAstzPai",
        "colab": {
          "base_uri": "https://localhost:8080/"
        },
        "outputId": "312d35bd-b644-4b5d-f0d1-461726bcbbc2"
      },
      "source": [
        "from nltk.tokenize import word_tokenize\n",
        "txt = 'Hello world, Bye bye world! How are you?'\n",
        "word_tokenize(txt)"
      ],
      "execution_count": 4,
      "outputs": [
        {
          "output_type": "execute_result",
          "data": {
            "text/plain": [
              "['Hello', 'world', ',', 'Bye', 'bye', 'world', '!', 'How', 'are', 'you', '?']"
            ]
          },
          "metadata": {},
          "execution_count": 4
        }
      ]
    },
    {
      "cell_type": "code",
      "metadata": {
        "id": "LiMAy_NAzxgv",
        "colab": {
          "base_uri": "https://localhost:8080/"
        },
        "outputId": "7f7622f9-606e-496d-e07a-3485f1dd020f"
      },
      "source": [
        "from nltk.corpus import wordnet # wordnet is a thesaurus\n",
        "syn = wordnet.synsets('hum')\n",
        "syn"
      ],
      "execution_count": 7,
      "outputs": [
        {
          "output_type": "execute_result",
          "data": {
            "text/plain": [
              "[Synset('busyness.n.01'),\n",
              " Synset('harkat-ul-mujahidin.n.01'),\n",
              " Synset('hum.n.03'),\n",
              " Synset('hum.v.01'),\n",
              " Synset('hum.v.02'),\n",
              " Synset('hum.v.03'),\n",
              " Synset('hum.v.04')]"
            ]
          },
          "metadata": {},
          "execution_count": 7
        }
      ]
    },
    {
      "cell_type": "code",
      "metadata": {
        "id": "Bi9PypNi07De",
        "colab": {
          "base_uri": "https://localhost:8080/"
        },
        "outputId": "5be3bc43-8096-4536-d3e6-278476804778"
      },
      "source": [
        "print(syn[0].definition())\n",
        "print(syn[4].definition())"
      ],
      "execution_count": 8,
      "outputs": [
        {
          "output_type": "stream",
          "name": "stdout",
          "text": [
            "the state of being or appearing to be actively engaged in an activity\n",
            "be noisy with activity\n"
          ]
        }
      ]
    },
    {
      "cell_type": "code",
      "metadata": {
        "id": "g4IaS9KA1HUo",
        "colab": {
          "base_uri": "https://localhost:8080/"
        },
        "outputId": "3678f773-3ed8-4ba2-9291-09753bca0934"
      },
      "source": [
        "syn[4].examples()"
      ],
      "execution_count": 9,
      "outputs": [
        {
          "output_type": "execute_result",
          "data": {
            "text/plain": [
              "['This office is buzzing with activity']"
            ]
          },
          "metadata": {},
          "execution_count": 9
        }
      ]
    },
    {
      "cell_type": "code",
      "metadata": {
        "id": "I2vKs5k31Sxl",
        "colab": {
          "base_uri": "https://localhost:8080/"
        },
        "outputId": "9940b3ad-e454-41a7-e5ab-93222b043ee0"
      },
      "source": [
        "synos = []\n",
        "for syn in wordnet.synsets('photo'):\n",
        "  print(syn.pos)\n",
        "  for lemma in syn.lemmas():\n",
        "    synos.append(lemma.name())\n",
        "    \n",
        "synos\n",
        "# Synonyms "
      ],
      "execution_count": 11,
      "outputs": [
        {
          "output_type": "stream",
          "name": "stdout",
          "text": [
            "<bound method Synset.pos of Synset('photograph.n.01')>\n"
          ]
        },
        {
          "output_type": "execute_result",
          "data": {
            "text/plain": [
              "['photograph', 'photo', 'exposure', 'picture', 'pic']"
            ]
          },
          "metadata": {},
          "execution_count": 11
        }
      ]
    },
    {
      "cell_type": "code",
      "metadata": {
        "id": "DwQ4vx0111bh",
        "colab": {
          "base_uri": "https://localhost:8080/"
        },
        "outputId": "d414d012-637c-4fbd-9d3f-e0c531c59b26"
      },
      "source": [
        "synos = []\n",
        "antos = set()\n",
        "for syn in wordnet.synsets('love'):\n",
        "  for lemma in syn.lemmas():\n",
        "    synos.append(lemma.name())\n",
        "    if lemma.antonyms():\n",
        "      antos.add(lemma.antonyms()[0].name())\n",
        "\n",
        "antos"
      ],
      "execution_count": 14,
      "outputs": [
        {
          "output_type": "execute_result",
          "data": {
            "text/plain": [
              "{'hate'}"
            ]
          },
          "metadata": {},
          "execution_count": 14
        }
      ]
    },
    {
      "cell_type": "code",
      "metadata": {
        "id": "tRSkZRhF26UD",
        "colab": {
          "base_uri": "https://localhost:8080/"
        },
        "outputId": "e2c8a55b-f323-4066-afbc-e7a4ebc71d69"
      },
      "source": [
        "from nltk import SnowballStemmer\n",
        "myStemmer = SnowballStemmer('english')\n",
        "print(myStemmer.stem('drying'))\n",
        "print(myStemmer.stem('dried'))\n",
        "# stemming result may not be in english dictionary\n",
        "# may-> accidentally but not intentionally in english dictionary"
      ],
      "execution_count": 15,
      "outputs": [
        {
          "output_type": "stream",
          "name": "stdout",
          "text": [
            "dri\n",
            "dri\n"
          ]
        }
      ]
    },
    {
      "cell_type": "code",
      "metadata": {
        "id": "4pWbq1Yf5QVg",
        "colab": {
          "base_uri": "https://localhost:8080/"
        },
        "outputId": "58c8aebd-ec79-4f7e-fdfc-5c4bb67f2ebd"
      },
      "source": [
        "from nltk.stem import WordNetLemmatizer\n",
        "lemma =WordNetLemmatizer()\n",
        "print(lemma.lemmatize('believes'))\n",
        "# STRENGTH -> NLTK, speed-> textacy , simple tasks -> spacy \n",
        "# manipulate the Part-of-speech to get desired result\n",
        "print(lemma.lemmatize('believes', pos='v')) # verb\n",
        "print(lemma.lemmatize('believes', pos='a')) # adjective\n",
        "print(lemma.lemmatize('believes', pos='r')) # adverb\n",
        "print(lemma.lemmatize('believes', pos='n')) # noun\n",
        "print(lemma.lemmatize('dogs'))\n",
        "# Result of LEMMA is in ENGLISH dictionary"
      ],
      "execution_count": null,
      "outputs": [
        {
          "output_type": "stream",
          "name": "stdout",
          "text": [
            "belief\n",
            "believe\n",
            "believes\n",
            "believes\n",
            "belief\n",
            "dog\n"
          ]
        }
      ]
    },
    {
      "cell_type": "code",
      "metadata": {
        "id": "aLPN6pgZ9jhz",
        "colab": {
          "base_uri": "https://localhost:8080/"
        },
        "outputId": "68bf4b47-30ac-4145-e3a9-71e4c7af7da3"
      },
      "source": [
        "from nltk.corpus import stopwords\n",
        "stopwords.words('english')"
      ],
      "execution_count": null,
      "outputs": [
        {
          "output_type": "execute_result",
          "data": {
            "text/plain": [
              "['i',\n",
              " 'me',\n",
              " 'my',\n",
              " 'myself',\n",
              " 'we',\n",
              " 'our',\n",
              " 'ours',\n",
              " 'ourselves',\n",
              " 'you',\n",
              " \"you're\",\n",
              " \"you've\",\n",
              " \"you'll\",\n",
              " \"you'd\",\n",
              " 'your',\n",
              " 'yours',\n",
              " 'yourself',\n",
              " 'yourselves',\n",
              " 'he',\n",
              " 'him',\n",
              " 'his',\n",
              " 'himself',\n",
              " 'she',\n",
              " \"she's\",\n",
              " 'her',\n",
              " 'hers',\n",
              " 'herself',\n",
              " 'it',\n",
              " \"it's\",\n",
              " 'its',\n",
              " 'itself',\n",
              " 'they',\n",
              " 'them',\n",
              " 'their',\n",
              " 'theirs',\n",
              " 'themselves',\n",
              " 'what',\n",
              " 'which',\n",
              " 'who',\n",
              " 'whom',\n",
              " 'this',\n",
              " 'that',\n",
              " \"that'll\",\n",
              " 'these',\n",
              " 'those',\n",
              " 'am',\n",
              " 'is',\n",
              " 'are',\n",
              " 'was',\n",
              " 'were',\n",
              " 'be',\n",
              " 'been',\n",
              " 'being',\n",
              " 'have',\n",
              " 'has',\n",
              " 'had',\n",
              " 'having',\n",
              " 'do',\n",
              " 'does',\n",
              " 'did',\n",
              " 'doing',\n",
              " 'a',\n",
              " 'an',\n",
              " 'the',\n",
              " 'and',\n",
              " 'but',\n",
              " 'if',\n",
              " 'or',\n",
              " 'because',\n",
              " 'as',\n",
              " 'until',\n",
              " 'while',\n",
              " 'of',\n",
              " 'at',\n",
              " 'by',\n",
              " 'for',\n",
              " 'with',\n",
              " 'about',\n",
              " 'against',\n",
              " 'between',\n",
              " 'into',\n",
              " 'through',\n",
              " 'during',\n",
              " 'before',\n",
              " 'after',\n",
              " 'above',\n",
              " 'below',\n",
              " 'to',\n",
              " 'from',\n",
              " 'up',\n",
              " 'down',\n",
              " 'in',\n",
              " 'out',\n",
              " 'on',\n",
              " 'off',\n",
              " 'over',\n",
              " 'under',\n",
              " 'again',\n",
              " 'further',\n",
              " 'then',\n",
              " 'once',\n",
              " 'here',\n",
              " 'there',\n",
              " 'when',\n",
              " 'where',\n",
              " 'why',\n",
              " 'how',\n",
              " 'all',\n",
              " 'any',\n",
              " 'both',\n",
              " 'each',\n",
              " 'few',\n",
              " 'more',\n",
              " 'most',\n",
              " 'other',\n",
              " 'some',\n",
              " 'such',\n",
              " 'no',\n",
              " 'nor',\n",
              " 'not',\n",
              " 'only',\n",
              " 'own',\n",
              " 'same',\n",
              " 'so',\n",
              " 'than',\n",
              " 'too',\n",
              " 'very',\n",
              " 's',\n",
              " 't',\n",
              " 'can',\n",
              " 'will',\n",
              " 'just',\n",
              " 'don',\n",
              " \"don't\",\n",
              " 'should',\n",
              " \"should've\",\n",
              " 'now',\n",
              " 'd',\n",
              " 'll',\n",
              " 'm',\n",
              " 'o',\n",
              " 're',\n",
              " 've',\n",
              " 'y',\n",
              " 'ain',\n",
              " 'aren',\n",
              " \"aren't\",\n",
              " 'couldn',\n",
              " \"couldn't\",\n",
              " 'didn',\n",
              " \"didn't\",\n",
              " 'doesn',\n",
              " \"doesn't\",\n",
              " 'hadn',\n",
              " \"hadn't\",\n",
              " 'hasn',\n",
              " \"hasn't\",\n",
              " 'haven',\n",
              " \"haven't\",\n",
              " 'isn',\n",
              " \"isn't\",\n",
              " 'ma',\n",
              " 'mightn',\n",
              " \"mightn't\",\n",
              " 'mustn',\n",
              " \"mustn't\",\n",
              " 'needn',\n",
              " \"needn't\",\n",
              " 'shan',\n",
              " \"shan't\",\n",
              " 'shouldn',\n",
              " \"shouldn't\",\n",
              " 'wasn',\n",
              " \"wasn't\",\n",
              " 'weren',\n",
              " \"weren't\",\n",
              " 'won',\n",
              " \"won't\",\n",
              " 'wouldn',\n",
              " \"wouldn't\"]"
            ]
          },
          "metadata": {},
          "execution_count": 15
        }
      ]
    },
    {
      "cell_type": "code",
      "metadata": {
        "id": "_HIarzv24AjS",
        "colab": {
          "base_uri": "https://localhost:8080/"
        },
        "outputId": "8f5e5691-b607-46bd-e8c4-6f3f110f1153"
      },
      "source": [
        "SnowballStemmer.languages"
      ],
      "execution_count": null,
      "outputs": [
        {
          "output_type": "execute_result",
          "data": {
            "text/plain": [
              "('arabic',\n",
              " 'danish',\n",
              " 'dutch',\n",
              " 'english',\n",
              " 'finnish',\n",
              " 'french',\n",
              " 'german',\n",
              " 'hungarian',\n",
              " 'italian',\n",
              " 'norwegian',\n",
              " 'porter',\n",
              " 'portuguese',\n",
              " 'romanian',\n",
              " 'russian',\n",
              " 'spanish',\n",
              " 'swedish')"
            ]
          },
          "metadata": {},
          "execution_count": 16
        }
      ]
    },
    {
      "cell_type": "code",
      "metadata": {
        "id": "xUoHUkBt4cAB",
        "colab": {
          "base_uri": "https://localhost:8080/"
        },
        "outputId": "11fe0154-f114-45c7-a738-ca171f230a66"
      },
      "source": [
        "print(myStemmer.stem('14 dresses'))\n",
        "# ENGLISH -> numbers"
      ],
      "execution_count": null,
      "outputs": [
        {
          "output_type": "stream",
          "name": "stdout",
          "text": [
            "14 dress\n"
          ]
        }
      ]
    },
    {
      "cell_type": "code",
      "metadata": {
        "id": "b41BxJRn8ORp"
      },
      "source": [
        ""
      ],
      "execution_count": null,
      "outputs": []
    }
  ]
}